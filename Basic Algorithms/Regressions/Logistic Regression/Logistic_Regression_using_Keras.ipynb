{
  "nbformat": 4,
  "nbformat_minor": 0,
  "metadata": {
    "colab": {
      "name": "Logistic Regression using Keras.ipynb",
      "provenance": []
    },
    "kernelspec": {
      "name": "python3",
      "display_name": "Python 3"
    }
  },
  "cells": [
    {
      "cell_type": "code",
      "metadata": {
        "id": "8AgvVdUR7qmP",
        "colab_type": "code",
        "colab": {}
      },
      "source": [
        "import warnings\n",
        "warnings.filterwarnings('ignore')"
      ],
      "execution_count": 1,
      "outputs": []
    },
    {
      "cell_type": "code",
      "metadata": {
        "id": "Dfm1NPM4EsZK",
        "colab_type": "code",
        "colab": {}
      },
      "source": [
        "import matplotlib.pyplot as plt\n",
        "import numpy as np\n",
        "import pandas as pd\n",
        "from sklearn import datasets, preprocessing\n",
        "from sklearn.metrics import mean_squared_error, r2_score\n",
        "import sklearn\n",
        "from sklearn.preprocessing import LabelEncoder\n",
        "import tensorflow as tf\n",
        "from tensorflow import keras\n",
        "from keras.models import Sequential\n",
        "from keras.layers import Dense\n",
        "from sklearn.linear_model import LogisticRegression"
      ],
      "execution_count": 6,
      "outputs": []
    },
    {
      "cell_type": "code",
      "metadata": {
        "id": "o8CUpvGWEyoI",
        "colab_type": "code",
        "colab": {}
      },
      "source": [
        "data = pd.read_csv('voice.csv')"
      ],
      "execution_count": 7,
      "outputs": []
    },
    {
      "cell_type": "code",
      "metadata": {
        "id": "6HQIw4gBFKg-",
        "colab_type": "code",
        "colab": {}
      },
      "source": [
        "## Shuffle the data\n",
        "data = data.sample(frac=1).reset_index(drop=True)"
      ],
      "execution_count": 8,
      "outputs": []
    },
    {
      "cell_type": "code",
      "metadata": {
        "id": "eE3F6FckFNaW",
        "colab_type": "code",
        "colab": {}
      },
      "source": [
        "encoder = LabelEncoder();\n",
        "data['label'] = encoder.fit_transform(data['label']);"
      ],
      "execution_count": 10,
      "outputs": []
    },
    {
      "cell_type": "code",
      "metadata": {
        "id": "STXpEAv0FxtT",
        "colab_type": "code",
        "colab": {
          "base_uri": "https://localhost:8080/",
          "height": 35
        },
        "outputId": "9c3927a9-42d1-4ede-8901-8b51f67a54ee"
      },
      "source": [
        "len(data.columns)"
      ],
      "execution_count": 11,
      "outputs": [
        {
          "output_type": "execute_result",
          "data": {
            "text/plain": [
              "21"
            ]
          },
          "metadata": {
            "tags": []
          },
          "execution_count": 11
        }
      ]
    },
    {
      "cell_type": "code",
      "metadata": {
        "id": "_OfZQerlGBzX",
        "colab_type": "code",
        "colab": {}
      },
      "source": [
        "##Using heat map do a basic type of feature selection from correlation \n",
        "x_data = data.drop(columns=['label', 'sd', 'Q25', 'Q75', 'kurt', 'sfm', 'centroid', 'maxdom', 'mindom', 'dfrange' ])"
      ],
      "execution_count": 17,
      "outputs": []
    },
    {
      "cell_type": "code",
      "metadata": {
        "id": "8boALEWSG5Rv",
        "colab_type": "code",
        "colab": {
          "base_uri": "https://localhost:8080/",
          "height": 200
        },
        "outputId": "5f19af8b-96ee-4372-8cf1-f45bc4906470"
      },
      "source": [
        "x_data.head()"
      ],
      "execution_count": 18,
      "outputs": [
        {
          "output_type": "execute_result",
          "data": {
            "text/html": [
              "<div>\n",
              "<style scoped>\n",
              "    .dataframe tbody tr th:only-of-type {\n",
              "        vertical-align: middle;\n",
              "    }\n",
              "\n",
              "    .dataframe tbody tr th {\n",
              "        vertical-align: top;\n",
              "    }\n",
              "\n",
              "    .dataframe thead th {\n",
              "        text-align: right;\n",
              "    }\n",
              "</style>\n",
              "<table border=\"1\" class=\"dataframe\">\n",
              "  <thead>\n",
              "    <tr style=\"text-align: right;\">\n",
              "      <th></th>\n",
              "      <th>meanfreq</th>\n",
              "      <th>median</th>\n",
              "      <th>IQR</th>\n",
              "      <th>skew</th>\n",
              "      <th>sp.ent</th>\n",
              "      <th>mode</th>\n",
              "      <th>meanfun</th>\n",
              "      <th>minfun</th>\n",
              "      <th>maxfun</th>\n",
              "      <th>meandom</th>\n",
              "      <th>modindx</th>\n",
              "    </tr>\n",
              "  </thead>\n",
              "  <tbody>\n",
              "    <tr>\n",
              "      <th>0</th>\n",
              "      <td>0.205418</td>\n",
              "      <td>0.210634</td>\n",
              "      <td>0.039758</td>\n",
              "      <td>2.101895</td>\n",
              "      <td>0.876680</td>\n",
              "      <td>0.216979</td>\n",
              "      <td>0.156075</td>\n",
              "      <td>0.047572</td>\n",
              "      <td>0.274286</td>\n",
              "      <td>1.262207</td>\n",
              "      <td>0.125549</td>\n",
              "    </tr>\n",
              "    <tr>\n",
              "      <th>1</th>\n",
              "      <td>0.177778</td>\n",
              "      <td>0.164044</td>\n",
              "      <td>0.084921</td>\n",
              "      <td>1.652175</td>\n",
              "      <td>0.917300</td>\n",
              "      <td>0.161998</td>\n",
              "      <td>0.127353</td>\n",
              "      <td>0.048193</td>\n",
              "      <td>0.279070</td>\n",
              "      <td>0.951287</td>\n",
              "      <td>0.118285</td>\n",
              "    </tr>\n",
              "    <tr>\n",
              "      <th>2</th>\n",
              "      <td>0.196389</td>\n",
              "      <td>0.217233</td>\n",
              "      <td>0.104448</td>\n",
              "      <td>1.362564</td>\n",
              "      <td>0.905769</td>\n",
              "      <td>0.240280</td>\n",
              "      <td>0.137307</td>\n",
              "      <td>0.049130</td>\n",
              "      <td>0.275862</td>\n",
              "      <td>2.805246</td>\n",
              "      <td>0.163352</td>\n",
              "    </tr>\n",
              "    <tr>\n",
              "      <th>3</th>\n",
              "      <td>0.203617</td>\n",
              "      <td>0.191434</td>\n",
              "      <td>0.101949</td>\n",
              "      <td>1.943400</td>\n",
              "      <td>0.890804</td>\n",
              "      <td>0.258482</td>\n",
              "      <td>0.142237</td>\n",
              "      <td>0.030132</td>\n",
              "      <td>0.250000</td>\n",
              "      <td>1.185389</td>\n",
              "      <td>0.245057</td>\n",
              "    </tr>\n",
              "    <tr>\n",
              "      <th>4</th>\n",
              "      <td>0.167762</td>\n",
              "      <td>0.159934</td>\n",
              "      <td>0.075272</td>\n",
              "      <td>2.531500</td>\n",
              "      <td>0.923640</td>\n",
              "      <td>0.126839</td>\n",
              "      <td>0.132089</td>\n",
              "      <td>0.018540</td>\n",
              "      <td>0.253968</td>\n",
              "      <td>1.048520</td>\n",
              "      <td>0.058374</td>\n",
              "    </tr>\n",
              "  </tbody>\n",
              "</table>\n",
              "</div>"
            ],
            "text/plain": [
              "   meanfreq    median       IQR  ...    maxfun   meandom   modindx\n",
              "0  0.205418  0.210634  0.039758  ...  0.274286  1.262207  0.125549\n",
              "1  0.177778  0.164044  0.084921  ...  0.279070  0.951287  0.118285\n",
              "2  0.196389  0.217233  0.104448  ...  0.275862  2.805246  0.163352\n",
              "3  0.203617  0.191434  0.101949  ...  0.250000  1.185389  0.245057\n",
              "4  0.167762  0.159934  0.075272  ...  0.253968  1.048520  0.058374\n",
              "\n",
              "[5 rows x 11 columns]"
            ]
          },
          "metadata": {
            "tags": []
          },
          "execution_count": 18
        }
      ]
    },
    {
      "cell_type": "code",
      "metadata": {
        "id": "Dd9YmzDKHBfa",
        "colab_type": "code",
        "colab": {}
      },
      "source": [
        "y_data = data['label']"
      ],
      "execution_count": 19,
      "outputs": []
    },
    {
      "cell_type": "code",
      "metadata": {
        "id": "Ap-Ec_VOHEkj",
        "colab_type": "code",
        "colab": {}
      },
      "source": [
        "x_data = np.array(x_data)\n",
        "y_data = np.array(y_data)"
      ],
      "execution_count": 20,
      "outputs": []
    },
    {
      "cell_type": "code",
      "metadata": {
        "id": "m8m7UNG8HKwA",
        "colab_type": "code",
        "colab": {}
      },
      "source": [
        "train_data = x_data[:-633]\n",
        "test_data = x_data[-633:]"
      ],
      "execution_count": 26,
      "outputs": []
    },
    {
      "cell_type": "code",
      "metadata": {
        "id": "xb2Tw1EYHUJr",
        "colab_type": "code",
        "colab": {}
      },
      "source": [
        "train_label = y_data[:-633]\n",
        "test_label = y_data[-633:]"
      ],
      "execution_count": 22,
      "outputs": []
    },
    {
      "cell_type": "code",
      "metadata": {
        "id": "XNWZbIbmHlHn",
        "colab_type": "code",
        "colab": {}
      },
      "source": [
        "log_reg_model = LogisticRegression()\n",
        "log_reg_model.fit(train_data, train_label);"
      ],
      "execution_count": 23,
      "outputs": []
    },
    {
      "cell_type": "code",
      "metadata": {
        "id": "YVeAHcPBH7iC",
        "colab_type": "code",
        "colab": {
          "base_uri": "https://localhost:8080/",
          "height": 106
        },
        "outputId": "b64416bb-ec80-42d0-f7ad-1aaf4dd89e1d"
      },
      "source": [
        "log_reg_model"
      ],
      "execution_count": 24,
      "outputs": [
        {
          "output_type": "execute_result",
          "data": {
            "text/plain": [
              "LogisticRegression(C=1.0, class_weight=None, dual=False, fit_intercept=True,\n",
              "                   intercept_scaling=1, l1_ratio=None, max_iter=100,\n",
              "                   multi_class='auto', n_jobs=None, penalty='l2',\n",
              "                   random_state=None, solver='lbfgs', tol=0.0001, verbose=0,\n",
              "                   warm_start=False)"
            ]
          },
          "metadata": {
            "tags": []
          },
          "execution_count": 24
        }
      ]
    },
    {
      "cell_type": "code",
      "metadata": {
        "id": "9oQgdjr3H-XG",
        "colab_type": "code",
        "colab": {}
      },
      "source": [
        "train_pred = log_reg_model.predict(test_data)"
      ],
      "execution_count": 27,
      "outputs": []
    },
    {
      "cell_type": "code",
      "metadata": {
        "id": "mzn_0RhrIERu",
        "colab_type": "code",
        "colab": {
          "base_uri": "https://localhost:8080/",
          "height": 35
        },
        "outputId": "0d67c59f-27d6-4f0c-cb7b-439da4be1a38"
      },
      "source": [
        "score = log_reg_model.score(test_data, test_label)\n",
        "print(score)"
      ],
      "execution_count": 28,
      "outputs": [
        {
          "output_type": "stream",
          "text": [
            "0.9036334913112164\n"
          ],
          "name": "stdout"
        }
      ]
    },
    {
      "cell_type": "code",
      "metadata": {
        "id": "MxvhevsuIWif",
        "colab_type": "code",
        "colab": {}
      },
      "source": [
        "## Build above classification model using NN"
      ],
      "execution_count": 29,
      "outputs": []
    },
    {
      "cell_type": "code",
      "metadata": {
        "id": "0TCChWobIykO",
        "colab_type": "code",
        "colab": {}
      },
      "source": [
        "ss = preprocessing.StandardScaler()\n",
        "x_data = ss.fit_transform(x_data)"
      ],
      "execution_count": 30,
      "outputs": []
    },
    {
      "cell_type": "code",
      "metadata": {
        "id": "_yFZKeBaJgzo",
        "colab_type": "code",
        "colab": {}
      },
      "source": [
        "x_data = pd.DataFrame(x_data)"
      ],
      "execution_count": 32,
      "outputs": []
    },
    {
      "cell_type": "code",
      "metadata": {
        "id": "5r-jgm89JqOl",
        "colab_type": "code",
        "colab": {}
      },
      "source": [
        "##Split the data in 80:20 ratio for train and test\n",
        "train_data = x_data[:-633]\n",
        "test_data = x_data[-633:]\n",
        "train_label = y_data[:-633]\n",
        "test_label = y_data[-633:]"
      ],
      "execution_count": 34,
      "outputs": []
    },
    {
      "cell_type": "code",
      "metadata": {
        "id": "r8EXDnUnJw3y",
        "colab_type": "code",
        "colab": {}
      },
      "source": [
        "model = Sequential()"
      ],
      "execution_count": 42,
      "outputs": []
    },
    {
      "cell_type": "code",
      "metadata": {
        "id": "JZ-jZXdyJ_cJ",
        "colab_type": "code",
        "colab": {}
      },
      "source": [
        "model.add(Dense(64, name='InputLayer', input_shape=(11,), activation='relu'))"
      ],
      "execution_count": 43,
      "outputs": []
    },
    {
      "cell_type": "code",
      "metadata": {
        "id": "IgF7XnGuKbpg",
        "colab_type": "code",
        "colab": {}
      },
      "source": [
        "model.add(Dense(2, name='OutPutLayer', activation='softmax'))"
      ],
      "execution_count": 44,
      "outputs": []
    },
    {
      "cell_type": "code",
      "metadata": {
        "id": "rT2GP3HjKrgs",
        "colab_type": "code",
        "colab": {
          "base_uri": "https://localhost:8080/",
          "height": 230
        },
        "outputId": "4018327d-6dc6-48bb-a25f-a1a19451a2cb"
      },
      "source": [
        "model.summary()"
      ],
      "execution_count": 45,
      "outputs": [
        {
          "output_type": "stream",
          "text": [
            "Model: \"sequential_2\"\n",
            "_________________________________________________________________\n",
            "Layer (type)                 Output Shape              Param #   \n",
            "=================================================================\n",
            "InputLayer (Dense)           (None, 64)                768       \n",
            "_________________________________________________________________\n",
            "OutPutLayer (Dense)          (None, 2)                 130       \n",
            "=================================================================\n",
            "Total params: 898\n",
            "Trainable params: 898\n",
            "Non-trainable params: 0\n",
            "_________________________________________________________________\n"
          ],
          "name": "stdout"
        }
      ]
    },
    {
      "cell_type": "code",
      "metadata": {
        "id": "wKDJ_09SK8LO",
        "colab_type": "code",
        "colab": {}
      },
      "source": [
        "model.compile(optimizer='adam', loss='sparse_categorical_crossentropy', metrics=['accuracy'])"
      ],
      "execution_count": 46,
      "outputs": []
    },
    {
      "cell_type": "code",
      "metadata": {
        "id": "EGnIG0qOLbc4",
        "colab_type": "code",
        "colab": {
          "base_uri": "https://localhost:8080/",
          "height": 1000
        },
        "outputId": "4712b796-31de-48e6-cc70-6dad999735ab"
      },
      "source": [
        "model.fit(train_data, train_label, epochs=30, batch_size=5)"
      ],
      "execution_count": 48,
      "outputs": [
        {
          "output_type": "stream",
          "text": [
            "Epoch 1/30\n",
            "2535/2535 [==============================] - 1s 317us/step - loss: 0.1966 - accuracy: 0.9325\n",
            "Epoch 2/30\n",
            "2535/2535 [==============================] - 0s 192us/step - loss: 0.0815 - accuracy: 0.9751\n",
            "Epoch 3/30\n",
            "2535/2535 [==============================] - 0s 193us/step - loss: 0.0736 - accuracy: 0.9771\n",
            "Epoch 4/30\n",
            "2535/2535 [==============================] - 0s 193us/step - loss: 0.0682 - accuracy: 0.9783\n",
            "Epoch 5/30\n",
            "2535/2535 [==============================] - 0s 188us/step - loss: 0.0641 - accuracy: 0.9787\n",
            "Epoch 6/30\n",
            "2535/2535 [==============================] - 0s 195us/step - loss: 0.0610 - accuracy: 0.9791\n",
            "Epoch 7/30\n",
            "2535/2535 [==============================] - 1s 205us/step - loss: 0.0588 - accuracy: 0.9799\n",
            "Epoch 8/30\n",
            "2535/2535 [==============================] - 1s 213us/step - loss: 0.0561 - accuracy: 0.9815\n",
            "Epoch 9/30\n",
            "2535/2535 [==============================] - 1s 209us/step - loss: 0.0534 - accuracy: 0.9807\n",
            "Epoch 10/30\n",
            "2535/2535 [==============================] - 0s 189us/step - loss: 0.0523 - accuracy: 0.9815\n",
            "Epoch 11/30\n",
            "2535/2535 [==============================] - 1s 211us/step - loss: 0.0495 - accuracy: 0.9826\n",
            "Epoch 12/30\n",
            "2535/2535 [==============================] - 1s 211us/step - loss: 0.0489 - accuracy: 0.9830\n",
            "Epoch 13/30\n",
            "2535/2535 [==============================] - 0s 189us/step - loss: 0.0464 - accuracy: 0.9846\n",
            "Epoch 14/30\n",
            "2535/2535 [==============================] - 0s 194us/step - loss: 0.0463 - accuracy: 0.9842\n",
            "Epoch 15/30\n",
            "2535/2535 [==============================] - 1s 232us/step - loss: 0.0437 - accuracy: 0.9842\n",
            "Epoch 16/30\n",
            "2535/2535 [==============================] - 0s 196us/step - loss: 0.0425 - accuracy: 0.9866\n",
            "Epoch 17/30\n",
            "2535/2535 [==============================] - 0s 188us/step - loss: 0.0410 - accuracy: 0.9846\n",
            "Epoch 18/30\n",
            "2535/2535 [==============================] - 1s 201us/step - loss: 0.0408 - accuracy: 0.9874\n",
            "Epoch 19/30\n",
            "2535/2535 [==============================] - 0s 193us/step - loss: 0.0402 - accuracy: 0.9842\n",
            "Epoch 20/30\n",
            "2535/2535 [==============================] - 0s 195us/step - loss: 0.0385 - accuracy: 0.9862\n",
            "Epoch 21/30\n",
            "2535/2535 [==============================] - 0s 192us/step - loss: 0.0383 - accuracy: 0.9866\n",
            "Epoch 22/30\n",
            "2535/2535 [==============================] - 1s 219us/step - loss: 0.0366 - accuracy: 0.9870\n",
            "Epoch 23/30\n",
            "2535/2535 [==============================] - 1s 218us/step - loss: 0.0357 - accuracy: 0.9878\n",
            "Epoch 24/30\n",
            "2535/2535 [==============================] - 1s 212us/step - loss: 0.0349 - accuracy: 0.9862\n",
            "Epoch 25/30\n",
            "2535/2535 [==============================] - 1s 216us/step - loss: 0.0340 - accuracy: 0.9897\n",
            "Epoch 26/30\n",
            "2535/2535 [==============================] - 0s 193us/step - loss: 0.0321 - accuracy: 0.9890\n",
            "Epoch 27/30\n",
            "2535/2535 [==============================] - 1s 200us/step - loss: 0.0323 - accuracy: 0.9870\n",
            "Epoch 28/30\n",
            "2535/2535 [==============================] - 1s 212us/step - loss: 0.0314 - accuracy: 0.9874\n",
            "Epoch 29/30\n",
            "2535/2535 [==============================] - 1s 207us/step - loss: 0.0309 - accuracy: 0.9882\n",
            "Epoch 30/30\n",
            "2535/2535 [==============================] - 1s 213us/step - loss: 0.0297 - accuracy: 0.9870\n"
          ],
          "name": "stdout"
        },
        {
          "output_type": "execute_result",
          "data": {
            "text/plain": [
              "<keras.callbacks.callbacks.History at 0x7f29723fe6d8>"
            ]
          },
          "metadata": {
            "tags": []
          },
          "execution_count": 48
        }
      ]
    },
    {
      "cell_type": "code",
      "metadata": {
        "id": "uUJT-rVvLvHm",
        "colab_type": "code",
        "colab": {
          "base_uri": "https://localhost:8080/",
          "height": 35
        },
        "outputId": "a7da5f8b-2adb-44ef-d3cc-d85ddf5a6d53"
      },
      "source": [
        "loss, accuracy = model.evaluate(test_data, test_label)"
      ],
      "execution_count": 49,
      "outputs": [
        {
          "output_type": "stream",
          "text": [
            "633/633 [==============================] - 0s 59us/step\n"
          ],
          "name": "stdout"
        }
      ]
    },
    {
      "cell_type": "code",
      "metadata": {
        "id": "vFj90RBAL6ox",
        "colab_type": "code",
        "colab": {
          "base_uri": "https://localhost:8080/",
          "height": 35
        },
        "outputId": "2107245d-0019-4357-9a7f-7c8dc546259b"
      },
      "source": [
        "print('Loss : ', loss)"
      ],
      "execution_count": 50,
      "outputs": [
        {
          "output_type": "stream",
          "text": [
            "Loss :  0.11036809615049317\n"
          ],
          "name": "stdout"
        }
      ]
    },
    {
      "cell_type": "code",
      "metadata": {
        "id": "eXlzl_C4L_Au",
        "colab_type": "code",
        "colab": {
          "base_uri": "https://localhost:8080/",
          "height": 35
        },
        "outputId": "220fefd6-918b-4103-8ceb-885ed251e076"
      },
      "source": [
        "print('Accuracy : ', accuracy)"
      ],
      "execution_count": 51,
      "outputs": [
        {
          "output_type": "stream",
          "text": [
            "Accuracy :  0.9731437563896179\n"
          ],
          "name": "stdout"
        }
      ]
    },
    {
      "cell_type": "code",
      "metadata": {
        "id": "wbLX9Fu5MCGL",
        "colab_type": "code",
        "colab": {}
      },
      "source": [
        ""
      ],
      "execution_count": null,
      "outputs": []
    }
  ]
}