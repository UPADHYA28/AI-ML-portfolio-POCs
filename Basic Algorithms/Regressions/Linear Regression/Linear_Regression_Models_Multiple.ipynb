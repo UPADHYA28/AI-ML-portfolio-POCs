{
  "nbformat": 4,
  "nbformat_minor": 0,
  "metadata": {
    "colab": {
      "name": "Linear Regression Models: Multiple & Parsimonious.ipynb",
      "provenance": []
    },
    "kernelspec": {
      "name": "python3",
      "display_name": "Python 3"
    },
    "accelerator": "GPU"
  },
  "cells": [
    {
      "cell_type": "code",
      "metadata": {
        "id": "OCz6B4NDw1vN",
        "colab_type": "code",
        "colab": {}
      },
      "source": [
        "import warnings\n",
        "warnings.filterwarnings('ignore')"
      ],
      "execution_count": 1,
      "outputs": []
    },
    {
      "cell_type": "code",
      "metadata": {
        "id": "yk1Ue9FKxQo4",
        "colab_type": "code",
        "colab": {
          "base_uri": "https://localhost:8080/",
          "height": 35
        },
        "outputId": "4b42d2d3-ebd7-463b-98a0-4f46056b77d9"
      },
      "source": [
        "import matplotlib.pyplot as plt\n",
        "import numpy as np\n",
        "import pandas as pd\n",
        "from sklearn import datasets, linear_model, preprocessing\n",
        "from sklearn.metrics import mean_squared_error, r2_score\n",
        "import sklearn\n",
        "from sklearn.preprocessing import OneHotEncoder\n",
        "import tensorflow as tf\n",
        "from tensorflow import keras\n",
        "from keras.models import Sequential\n",
        "from keras.layers import Dense"
      ],
      "execution_count": 2,
      "outputs": [
        {
          "output_type": "stream",
          "text": [
            "Using TensorFlow backend.\n"
          ],
          "name": "stderr"
        }
      ]
    },
    {
      "cell_type": "code",
      "metadata": {
        "id": "YohvQZdeyGsQ",
        "colab_type": "code",
        "colab": {}
      },
      "source": [
        "data = pd.read_csv('kc_house_data.csv');"
      ],
      "execution_count": 3,
      "outputs": []
    },
    {
      "cell_type": "code",
      "metadata": {
        "id": "ADUzFcbLymjM",
        "colab_type": "code",
        "colab": {
          "base_uri": "https://localhost:8080/",
          "height": 220
        },
        "outputId": "e4d35c83-719c-4158-a9f5-4f63e71a7c2d"
      },
      "source": [
        "data.head()"
      ],
      "execution_count": 4,
      "outputs": [
        {
          "output_type": "execute_result",
          "data": {
            "text/html": [
              "<div>\n",
              "<style scoped>\n",
              "    .dataframe tbody tr th:only-of-type {\n",
              "        vertical-align: middle;\n",
              "    }\n",
              "\n",
              "    .dataframe tbody tr th {\n",
              "        vertical-align: top;\n",
              "    }\n",
              "\n",
              "    .dataframe thead th {\n",
              "        text-align: right;\n",
              "    }\n",
              "</style>\n",
              "<table border=\"1\" class=\"dataframe\">\n",
              "  <thead>\n",
              "    <tr style=\"text-align: right;\">\n",
              "      <th></th>\n",
              "      <th>id</th>\n",
              "      <th>date</th>\n",
              "      <th>price</th>\n",
              "      <th>bedrooms</th>\n",
              "      <th>bathrooms</th>\n",
              "      <th>sqft_living</th>\n",
              "      <th>sqft_lot</th>\n",
              "      <th>floors</th>\n",
              "      <th>waterfront</th>\n",
              "      <th>view</th>\n",
              "      <th>condition</th>\n",
              "      <th>grade</th>\n",
              "      <th>sqft_above</th>\n",
              "      <th>sqft_basement</th>\n",
              "      <th>yr_built</th>\n",
              "      <th>yr_renovated</th>\n",
              "      <th>zipcode</th>\n",
              "      <th>lat</th>\n",
              "      <th>long</th>\n",
              "      <th>sqft_living15</th>\n",
              "      <th>sqft_lot15</th>\n",
              "    </tr>\n",
              "  </thead>\n",
              "  <tbody>\n",
              "    <tr>\n",
              "      <th>0</th>\n",
              "      <td>7129300520</td>\n",
              "      <td>20141013T000000</td>\n",
              "      <td>221900.0</td>\n",
              "      <td>3</td>\n",
              "      <td>1.00</td>\n",
              "      <td>1180</td>\n",
              "      <td>5650</td>\n",
              "      <td>1.0</td>\n",
              "      <td>0</td>\n",
              "      <td>0</td>\n",
              "      <td>3</td>\n",
              "      <td>7</td>\n",
              "      <td>1180</td>\n",
              "      <td>0</td>\n",
              "      <td>1955</td>\n",
              "      <td>0</td>\n",
              "      <td>98178</td>\n",
              "      <td>47.5112</td>\n",
              "      <td>-122.257</td>\n",
              "      <td>1340</td>\n",
              "      <td>5650</td>\n",
              "    </tr>\n",
              "    <tr>\n",
              "      <th>1</th>\n",
              "      <td>6414100192</td>\n",
              "      <td>20141209T000000</td>\n",
              "      <td>538000.0</td>\n",
              "      <td>3</td>\n",
              "      <td>2.25</td>\n",
              "      <td>2570</td>\n",
              "      <td>7242</td>\n",
              "      <td>2.0</td>\n",
              "      <td>0</td>\n",
              "      <td>0</td>\n",
              "      <td>3</td>\n",
              "      <td>7</td>\n",
              "      <td>2170</td>\n",
              "      <td>400</td>\n",
              "      <td>1951</td>\n",
              "      <td>1991</td>\n",
              "      <td>98125</td>\n",
              "      <td>47.7210</td>\n",
              "      <td>-122.319</td>\n",
              "      <td>1690</td>\n",
              "      <td>7639</td>\n",
              "    </tr>\n",
              "    <tr>\n",
              "      <th>2</th>\n",
              "      <td>5631500400</td>\n",
              "      <td>20150225T000000</td>\n",
              "      <td>180000.0</td>\n",
              "      <td>2</td>\n",
              "      <td>1.00</td>\n",
              "      <td>770</td>\n",
              "      <td>10000</td>\n",
              "      <td>1.0</td>\n",
              "      <td>0</td>\n",
              "      <td>0</td>\n",
              "      <td>3</td>\n",
              "      <td>6</td>\n",
              "      <td>770</td>\n",
              "      <td>0</td>\n",
              "      <td>1933</td>\n",
              "      <td>0</td>\n",
              "      <td>98028</td>\n",
              "      <td>47.7379</td>\n",
              "      <td>-122.233</td>\n",
              "      <td>2720</td>\n",
              "      <td>8062</td>\n",
              "    </tr>\n",
              "    <tr>\n",
              "      <th>3</th>\n",
              "      <td>2487200875</td>\n",
              "      <td>20141209T000000</td>\n",
              "      <td>604000.0</td>\n",
              "      <td>4</td>\n",
              "      <td>3.00</td>\n",
              "      <td>1960</td>\n",
              "      <td>5000</td>\n",
              "      <td>1.0</td>\n",
              "      <td>0</td>\n",
              "      <td>0</td>\n",
              "      <td>5</td>\n",
              "      <td>7</td>\n",
              "      <td>1050</td>\n",
              "      <td>910</td>\n",
              "      <td>1965</td>\n",
              "      <td>0</td>\n",
              "      <td>98136</td>\n",
              "      <td>47.5208</td>\n",
              "      <td>-122.393</td>\n",
              "      <td>1360</td>\n",
              "      <td>5000</td>\n",
              "    </tr>\n",
              "    <tr>\n",
              "      <th>4</th>\n",
              "      <td>1954400510</td>\n",
              "      <td>20150218T000000</td>\n",
              "      <td>510000.0</td>\n",
              "      <td>3</td>\n",
              "      <td>2.00</td>\n",
              "      <td>1680</td>\n",
              "      <td>8080</td>\n",
              "      <td>1.0</td>\n",
              "      <td>0</td>\n",
              "      <td>0</td>\n",
              "      <td>3</td>\n",
              "      <td>8</td>\n",
              "      <td>1680</td>\n",
              "      <td>0</td>\n",
              "      <td>1987</td>\n",
              "      <td>0</td>\n",
              "      <td>98074</td>\n",
              "      <td>47.6168</td>\n",
              "      <td>-122.045</td>\n",
              "      <td>1800</td>\n",
              "      <td>7503</td>\n",
              "    </tr>\n",
              "  </tbody>\n",
              "</table>\n",
              "</div>"
            ],
            "text/plain": [
              "           id             date     price  ...     long  sqft_living15  sqft_lot15\n",
              "0  7129300520  20141013T000000  221900.0  ... -122.257           1340        5650\n",
              "1  6414100192  20141209T000000  538000.0  ... -122.319           1690        7639\n",
              "2  5631500400  20150225T000000  180000.0  ... -122.233           2720        8062\n",
              "3  2487200875  20141209T000000  604000.0  ... -122.393           1360        5000\n",
              "4  1954400510  20150218T000000  510000.0  ... -122.045           1800        7503\n",
              "\n",
              "[5 rows x 21 columns]"
            ]
          },
          "metadata": {
            "tags": []
          },
          "execution_count": 4
        }
      ]
    },
    {
      "cell_type": "code",
      "metadata": {
        "id": "02bqI01nypzI",
        "colab_type": "code",
        "colab": {}
      },
      "source": [
        "## Shuffle the data\n",
        "data = data.sample(frac=1).reset_index(drop=True)"
      ],
      "execution_count": 5,
      "outputs": []
    },
    {
      "cell_type": "code",
      "metadata": {
        "id": "WYKAbJFdy435",
        "colab_type": "code",
        "colab": {}
      },
      "source": [
        "zip_code_ohe = OneHotEncoder();"
      ],
      "execution_count": 6,
      "outputs": []
    },
    {
      "cell_type": "code",
      "metadata": {
        "id": "OIkxZuNVzJ2Q",
        "colab_type": "code",
        "colab": {}
      },
      "source": [
        "x = zip_code_ohe.fit_transform(data.zipcode.values.reshape(-1,1)).toarray()"
      ],
      "execution_count": 7,
      "outputs": []
    },
    {
      "cell_type": "code",
      "metadata": {
        "id": "oUltNjhbzkoJ",
        "colab_type": "code",
        "colab": {}
      },
      "source": [
        "df_ohe = pd.DataFrame(x, columns=['zipcode_' + str(int(i)) for i in range(x.shape[1])])"
      ],
      "execution_count": 8,
      "outputs": []
    },
    {
      "cell_type": "code",
      "metadata": {
        "id": "BNngUxBW0K97",
        "colab_type": "code",
        "colab": {}
      },
      "source": [
        "data = pd.concat([data, df_ohe], axis=1)"
      ],
      "execution_count": 9,
      "outputs": []
    },
    {
      "cell_type": "code",
      "metadata": {
        "id": "_FLxcuu30UbZ",
        "colab_type": "code",
        "colab": {}
      },
      "source": [
        "x_data = data.drop(columns=['id', 'price', 'lat', 'long', 'date', 'zipcode'])"
      ],
      "execution_count": 10,
      "outputs": []
    },
    {
      "cell_type": "code",
      "metadata": {
        "id": "tw1wR2uk1e8t",
        "colab_type": "code",
        "colab": {}
      },
      "source": [
        "y_data = data['price']"
      ],
      "execution_count": 11,
      "outputs": []
    },
    {
      "cell_type": "code",
      "metadata": {
        "id": "IpEEaZoi1jRT",
        "colab_type": "code",
        "colab": {}
      },
      "source": [
        "## This is a kitchen sink regression"
      ],
      "execution_count": 12,
      "outputs": []
    },
    {
      "cell_type": "code",
      "metadata": {
        "id": "mD-6BDZZ1vvm",
        "colab_type": "code",
        "colab": {}
      },
      "source": [
        "x_data = np.array(x_data)\n",
        "y_data = np.array(y_data)"
      ],
      "execution_count": 13,
      "outputs": []
    },
    {
      "cell_type": "code",
      "metadata": {
        "id": "dAKPJcP212pP",
        "colab_type": "code",
        "colab": {}
      },
      "source": [
        "train_data = x_data[:-4322]\n",
        "test_data = x_data[-4322:]"
      ],
      "execution_count": 14,
      "outputs": []
    },
    {
      "cell_type": "code",
      "metadata": {
        "id": "hMydU3nF2BEX",
        "colab_type": "code",
        "colab": {}
      },
      "source": [
        "train_label = y_data[:-4322]\n",
        "test_label = y_data[-4322:]"
      ],
      "execution_count": 15,
      "outputs": []
    },
    {
      "cell_type": "code",
      "metadata": {
        "id": "fotJ6X3O2NW6",
        "colab_type": "code",
        "colab": {
          "base_uri": "https://localhost:8080/",
          "height": 35
        },
        "outputId": "c3f71d2b-cd46-4e6c-e208-cbaa3bf717c0"
      },
      "source": [
        "train_data.shape"
      ],
      "execution_count": 16,
      "outputs": [
        {
          "output_type": "execute_result",
          "data": {
            "text/plain": [
              "(17291, 85)"
            ]
          },
          "metadata": {
            "tags": []
          },
          "execution_count": 16
        }
      ]
    },
    {
      "cell_type": "code",
      "metadata": {
        "id": "Aw_kvZX22QUR",
        "colab_type": "code",
        "colab": {}
      },
      "source": [
        "regr = linear_model.LinearRegression(fit_intercept=False)"
      ],
      "execution_count": 17,
      "outputs": []
    },
    {
      "cell_type": "code",
      "metadata": {
        "id": "2fnMcc4w2qWY",
        "colab_type": "code",
        "colab": {}
      },
      "source": [
        "regr.fit(train_data, train_label);"
      ],
      "execution_count": 18,
      "outputs": []
    },
    {
      "cell_type": "code",
      "metadata": {
        "id": "FMI8JGVl216b",
        "colab_type": "code",
        "colab": {}
      },
      "source": [
        "train_prediction = regr.predict(train_data)"
      ],
      "execution_count": 19,
      "outputs": []
    },
    {
      "cell_type": "code",
      "metadata": {
        "id": "TdEGaVQ12-Tk",
        "colab_type": "code",
        "colab": {}
      },
      "source": [
        "test_prediction = regr.predict(test_data)"
      ],
      "execution_count": 20,
      "outputs": []
    },
    {
      "cell_type": "code",
      "metadata": {
        "id": "hd7BRdUG3DoX",
        "colab_type": "code",
        "colab": {
          "base_uri": "https://localhost:8080/",
          "height": 426
        },
        "outputId": "20f8bbac-5978-4d0e-b6cc-30c3e8ba195d"
      },
      "source": [
        "print('Coeff: \\n', regr.coef_);"
      ],
      "execution_count": 21,
      "outputs": [
        {
          "output_type": "stream",
          "text": [
            "Coeff: \n",
            " [-2.71375130e+04  1.98946334e+04 -5.95167538e+12  2.39697193e-01\n",
            " -4.57812527e+04  6.55175525e+05  5.60599807e+04  2.46992054e+04\n",
            "  5.46498246e+04  5.95167538e+12  5.95167538e+12 -6.80033527e+02\n",
            "  1.77015278e+01  1.14311759e+01 -1.09940933e-01  8.40858394e+05\n",
            "  8.72457248e+05  8.26112996e+05  1.62661551e+06  1.14343042e+06\n",
            "  1.10741663e+06  1.08440006e+06  1.09045091e+06  9.02255800e+05\n",
            "  9.56991071e+05  9.34447358e+05  9.32489553e+05  8.22754501e+05\n",
            "  8.08711193e+05  1.00545528e+06  1.00583566e+06  9.63622095e+05\n",
            "  1.05175770e+06  8.53566703e+05  8.57881581e+05  8.48684186e+05\n",
            "  1.20794247e+06  1.04047885e+06  8.72179721e+05  2.03274701e+06\n",
            "  1.34451114e+06  8.46531717e+05  9.30836807e+05  1.07044619e+06\n",
            "  1.02771758e+06  8.93958982e+05  9.34288973e+05  8.72344490e+05\n",
            "  9.22062211e+05  9.27257846e+05  8.13541738e+05  9.89119520e+05\n",
            "  1.01839532e+06  1.00612215e+06  9.55566421e+05  8.13715749e+05\n",
            "  1.37416558e+06  1.18759986e+06  1.32063133e+06  9.96145721e+05\n",
            "  1.20147023e+06  9.71822624e+05  1.32407319e+06  1.47523298e+06\n",
            "  1.17512491e+06  1.13878505e+06  1.16943101e+06  1.02187356e+06\n",
            "  1.29580246e+06  1.19030972e+06  1.04468163e+06  1.03858194e+06\n",
            "  1.01563024e+06  1.09512043e+06  1.12830110e+06  9.52520375e+05\n",
            "  9.14321149e+05  9.92420452e+05  9.04140972e+05  9.21331547e+05\n",
            "  1.05832537e+06  8.78187054e+05  8.88014206e+05  8.42837455e+05\n",
            "  1.23904180e+06]\n"
          ],
          "name": "stdout"
        }
      ]
    },
    {
      "cell_type": "code",
      "metadata": {
        "id": "HGnqhd-v3OKB",
        "colab_type": "code",
        "colab": {
          "base_uri": "https://localhost:8080/",
          "height": 35
        },
        "outputId": "661fb347-162d-4839-da40-53cd28b1728c"
      },
      "source": [
        "mse = mean_squared_error(test_label, test_prediction)\n",
        "print('MSE ', mse)"
      ],
      "execution_count": 22,
      "outputs": [
        {
          "output_type": "stream",
          "text": [
            "MSE  25380886197.824486\n"
          ],
          "name": "stdout"
        }
      ]
    },
    {
      "cell_type": "code",
      "metadata": {
        "id": "tlPIJtyj3YIq",
        "colab_type": "code",
        "colab": {
          "base_uri": "https://localhost:8080/",
          "height": 35
        },
        "outputId": "318935f1-50ca-4b20-a514-71de648dadc1"
      },
      "source": [
        "import math\n",
        "print('RMSQ', math.sqrt(mse))"
      ],
      "execution_count": 23,
      "outputs": [
        {
          "output_type": "stream",
          "text": [
            "RMSQ 159313.79788902306\n"
          ],
          "name": "stdout"
        }
      ]
    },
    {
      "cell_type": "code",
      "metadata": {
        "id": "lIkjGesK3pD4",
        "colab_type": "code",
        "colab": {
          "base_uri": "https://localhost:8080/",
          "height": 35
        },
        "outputId": "f2fbdf05-d959-4ffe-be63-7f283da984ab"
      },
      "source": [
        "print('R2 Value: ', r2_score(test_label, test_prediction));"
      ],
      "execution_count": 24,
      "outputs": [
        {
          "output_type": "stream",
          "text": [
            "R2 Value:  0.8248898227179617\n"
          ],
          "name": "stdout"
        }
      ]
    },
    {
      "cell_type": "code",
      "metadata": {
        "id": "Hlrj3zL94Szs",
        "colab_type": "code",
        "colab": {}
      },
      "source": [
        "## Same model with NN using Keras"
      ],
      "execution_count": 25,
      "outputs": []
    },
    {
      "cell_type": "code",
      "metadata": {
        "id": "bnqX72ZK4d41",
        "colab_type": "code",
        "colab": {}
      },
      "source": [
        "data = pd.read_csv('kc_house_data.csv');\n",
        "data = data.sample(frac=1).reset_index(drop=True)\n",
        "## Drop all categorical features \n",
        "normalized_data = data.drop(columns=['id', 'price', 'lat', 'long', 'date', 'zipcode', 'floors', 'waterfront', 'view', 'condition', 'grade'])"
      ],
      "execution_count": 26,
      "outputs": []
    },
    {
      "cell_type": "code",
      "metadata": {
        "id": "nZGkhlVP54-H",
        "colab_type": "code",
        "colab": {}
      },
      "source": [
        "ss = preprocessing.StandardScaler()"
      ],
      "execution_count": 27,
      "outputs": []
    },
    {
      "cell_type": "code",
      "metadata": {
        "id": "_0TocSdx6NZb",
        "colab_type": "code",
        "colab": {}
      },
      "source": [
        "normalized_data = ss.fit_transform(normalized_data)"
      ],
      "execution_count": 28,
      "outputs": []
    },
    {
      "cell_type": "code",
      "metadata": {
        "id": "2jx_oFfI6UE8",
        "colab_type": "code",
        "colab": {
          "base_uri": "https://localhost:8080/",
          "height": 372
        },
        "outputId": "2d1e4b7e-7db3-420f-92f6-dfedd3e45981"
      },
      "source": [
        "normalized_data[:10]"
      ],
      "execution_count": 29,
      "outputs": [
        {
          "output_type": "execute_result",
          "data": {
            "text/plain": [
              "array([[ 0.67648506, -0.79823546, -0.7076283 , -0.21069681, -0.79508887,\n",
              "         0.01918579, -0.8853496 , -0.21012839, -0.60777271, -0.23397896],\n",
              "       [ 0.67648506, -0.14900736, -0.19587967, -0.16772193,  0.13478216,\n",
              "        -0.65868104,  0.13600588, -0.21012839, -1.03089846, -0.22841191],\n",
              "       [ 0.67648506,  0.50022075,  0.52274607, -0.26767473,  0.93181448,\n",
              "        -0.65868104,  1.19140654, -0.21012839,  1.4932655 , -0.28759836],\n",
              "       [-0.39873715, -0.14900736, -0.62052215, -0.27395195, -1.03661382,\n",
              "         0.65186149, -1.56625325, -0.21012839, -0.69531597, -0.32993718],\n",
              "       [-0.39873715, -1.44746357, -1.11049425, -0.0750121 , -0.8796226 ,\n",
              "        -0.65868104, -0.64703332, -0.21012839, -0.63695379, -0.08308282],\n",
              "       [-0.39873715, -0.14900736, -0.56608081,  0.41115925, -1.06076631,\n",
              "         0.81003042,  0.17005106, -0.21012839, -0.75367814,  0.5999786 ],\n",
              "       [ 0.67648506,  0.8248348 ,  0.60985222, -0.21407685,  1.02842445,\n",
              "        -0.65868104,  1.02118063, -0.21012839,  0.9534154 , -0.25163234],\n",
              "       [-0.39873715, -0.14900736, -0.38098024, -0.06972474, -0.07051404,\n",
              "        -0.65868104,  0.51050289, -0.21012839,  0.70537617,  0.03023579],\n",
              "       [ 0.67648506, -0.47362141, -0.28951878, -0.2440144 , -1.01970707,\n",
              "         1.30713276, -0.6810785 , -0.21012839, -1.01630791, -0.28452184],\n",
              "       [ 0.67648506,  1.14944885,  0.26142762, -0.04922717,  0.64198454,\n",
              "        -0.65868104,  0.91904508, -0.21012839,  0.34061259,  0.45768939]])"
            ]
          },
          "metadata": {
            "tags": []
          },
          "execution_count": 29
        }
      ]
    },
    {
      "cell_type": "code",
      "metadata": {
        "id": "w27O2HEl6Wdv",
        "colab_type": "code",
        "colab": {}
      },
      "source": [
        "normalized_data = pd.DataFrame(normalized_data)"
      ],
      "execution_count": 30,
      "outputs": []
    },
    {
      "cell_type": "code",
      "metadata": {
        "id": "ExlLJAG66bSe",
        "colab_type": "code",
        "colab": {}
      },
      "source": [
        "floors = data['floors']\n",
        "waterfront = data['waterfront']\n",
        "view = data['view']\n",
        "condition = data['condition']\n",
        "grade = data['grade']"
      ],
      "execution_count": 31,
      "outputs": []
    },
    {
      "cell_type": "code",
      "metadata": {
        "id": "vHMIFQo47FbI",
        "colab_type": "code",
        "colab": {}
      },
      "source": [
        "x_data = pd.concat([normalized_data,floors,waterfront, view, condition, grade ], axis=1)\n",
        "y_data = data['price']"
      ],
      "execution_count": 32,
      "outputs": []
    },
    {
      "cell_type": "code",
      "metadata": {
        "id": "AaQxMzOo7dAz",
        "colab_type": "code",
        "colab": {}
      },
      "source": [
        "x = zip_code_ohe.fit_transform(data.zipcode.values.reshape(-1,1)).toarray()"
      ],
      "execution_count": 33,
      "outputs": []
    },
    {
      "cell_type": "code",
      "metadata": {
        "id": "8NK4mrTy7x_C",
        "colab_type": "code",
        "colab": {}
      },
      "source": [
        "df_ohe = pd.DataFrame(x, columns=['zipcode_' + str(int(i)) for i in range(x.shape[1])])\n",
        "x_data = pd.concat([x_data, df_ohe],axis=1)"
      ],
      "execution_count": 34,
      "outputs": []
    },
    {
      "cell_type": "code",
      "metadata": {
        "id": "dCyV56fq8Avq",
        "colab_type": "code",
        "colab": {
          "base_uri": "https://localhost:8080/",
          "height": 249
        },
        "outputId": "a3dc00ef-af75-4b17-f308-fe47c87aa549"
      },
      "source": [
        "x_data.head()"
      ],
      "execution_count": 35,
      "outputs": [
        {
          "output_type": "execute_result",
          "data": {
            "text/html": [
              "<div>\n",
              "<style scoped>\n",
              "    .dataframe tbody tr th:only-of-type {\n",
              "        vertical-align: middle;\n",
              "    }\n",
              "\n",
              "    .dataframe tbody tr th {\n",
              "        vertical-align: top;\n",
              "    }\n",
              "\n",
              "    .dataframe thead th {\n",
              "        text-align: right;\n",
              "    }\n",
              "</style>\n",
              "<table border=\"1\" class=\"dataframe\">\n",
              "  <thead>\n",
              "    <tr style=\"text-align: right;\">\n",
              "      <th></th>\n",
              "      <th>0</th>\n",
              "      <th>1</th>\n",
              "      <th>2</th>\n",
              "      <th>3</th>\n",
              "      <th>4</th>\n",
              "      <th>5</th>\n",
              "      <th>6</th>\n",
              "      <th>7</th>\n",
              "      <th>8</th>\n",
              "      <th>9</th>\n",
              "      <th>floors</th>\n",
              "      <th>waterfront</th>\n",
              "      <th>view</th>\n",
              "      <th>condition</th>\n",
              "      <th>grade</th>\n",
              "      <th>zipcode_0</th>\n",
              "      <th>zipcode_1</th>\n",
              "      <th>zipcode_2</th>\n",
              "      <th>zipcode_3</th>\n",
              "      <th>zipcode_4</th>\n",
              "      <th>zipcode_5</th>\n",
              "      <th>zipcode_6</th>\n",
              "      <th>zipcode_7</th>\n",
              "      <th>zipcode_8</th>\n",
              "      <th>zipcode_9</th>\n",
              "      <th>zipcode_10</th>\n",
              "      <th>zipcode_11</th>\n",
              "      <th>zipcode_12</th>\n",
              "      <th>zipcode_13</th>\n",
              "      <th>zipcode_14</th>\n",
              "      <th>zipcode_15</th>\n",
              "      <th>zipcode_16</th>\n",
              "      <th>zipcode_17</th>\n",
              "      <th>zipcode_18</th>\n",
              "      <th>zipcode_19</th>\n",
              "      <th>zipcode_20</th>\n",
              "      <th>zipcode_21</th>\n",
              "      <th>zipcode_22</th>\n",
              "      <th>zipcode_23</th>\n",
              "      <th>zipcode_24</th>\n",
              "      <th>...</th>\n",
              "      <th>zipcode_30</th>\n",
              "      <th>zipcode_31</th>\n",
              "      <th>zipcode_32</th>\n",
              "      <th>zipcode_33</th>\n",
              "      <th>zipcode_34</th>\n",
              "      <th>zipcode_35</th>\n",
              "      <th>zipcode_36</th>\n",
              "      <th>zipcode_37</th>\n",
              "      <th>zipcode_38</th>\n",
              "      <th>zipcode_39</th>\n",
              "      <th>zipcode_40</th>\n",
              "      <th>zipcode_41</th>\n",
              "      <th>zipcode_42</th>\n",
              "      <th>zipcode_43</th>\n",
              "      <th>zipcode_44</th>\n",
              "      <th>zipcode_45</th>\n",
              "      <th>zipcode_46</th>\n",
              "      <th>zipcode_47</th>\n",
              "      <th>zipcode_48</th>\n",
              "      <th>zipcode_49</th>\n",
              "      <th>zipcode_50</th>\n",
              "      <th>zipcode_51</th>\n",
              "      <th>zipcode_52</th>\n",
              "      <th>zipcode_53</th>\n",
              "      <th>zipcode_54</th>\n",
              "      <th>zipcode_55</th>\n",
              "      <th>zipcode_56</th>\n",
              "      <th>zipcode_57</th>\n",
              "      <th>zipcode_58</th>\n",
              "      <th>zipcode_59</th>\n",
              "      <th>zipcode_60</th>\n",
              "      <th>zipcode_61</th>\n",
              "      <th>zipcode_62</th>\n",
              "      <th>zipcode_63</th>\n",
              "      <th>zipcode_64</th>\n",
              "      <th>zipcode_65</th>\n",
              "      <th>zipcode_66</th>\n",
              "      <th>zipcode_67</th>\n",
              "      <th>zipcode_68</th>\n",
              "      <th>zipcode_69</th>\n",
              "    </tr>\n",
              "  </thead>\n",
              "  <tbody>\n",
              "    <tr>\n",
              "      <th>0</th>\n",
              "      <td>0.676485</td>\n",
              "      <td>-0.798235</td>\n",
              "      <td>-0.707628</td>\n",
              "      <td>-0.210697</td>\n",
              "      <td>-0.795089</td>\n",
              "      <td>0.019186</td>\n",
              "      <td>-0.885350</td>\n",
              "      <td>-0.210128</td>\n",
              "      <td>-0.607773</td>\n",
              "      <td>-0.233979</td>\n",
              "      <td>1.5</td>\n",
              "      <td>0</td>\n",
              "      <td>0</td>\n",
              "      <td>4</td>\n",
              "      <td>7</td>\n",
              "      <td>0.0</td>\n",
              "      <td>0.0</td>\n",
              "      <td>0.0</td>\n",
              "      <td>0.0</td>\n",
              "      <td>0.0</td>\n",
              "      <td>0.0</td>\n",
              "      <td>0.0</td>\n",
              "      <td>0.0</td>\n",
              "      <td>0.0</td>\n",
              "      <td>0.0</td>\n",
              "      <td>0.0</td>\n",
              "      <td>0.0</td>\n",
              "      <td>0.0</td>\n",
              "      <td>0.0</td>\n",
              "      <td>0.0</td>\n",
              "      <td>0.0</td>\n",
              "      <td>0.0</td>\n",
              "      <td>0.0</td>\n",
              "      <td>0.0</td>\n",
              "      <td>0.0</td>\n",
              "      <td>0.0</td>\n",
              "      <td>0.0</td>\n",
              "      <td>0.0</td>\n",
              "      <td>0.0</td>\n",
              "      <td>0.0</td>\n",
              "      <td>...</td>\n",
              "      <td>0.0</td>\n",
              "      <td>0.0</td>\n",
              "      <td>0.0</td>\n",
              "      <td>0.0</td>\n",
              "      <td>0.0</td>\n",
              "      <td>0.0</td>\n",
              "      <td>0.0</td>\n",
              "      <td>0.0</td>\n",
              "      <td>0.0</td>\n",
              "      <td>0.0</td>\n",
              "      <td>0.0</td>\n",
              "      <td>0.0</td>\n",
              "      <td>0.0</td>\n",
              "      <td>0.0</td>\n",
              "      <td>0.0</td>\n",
              "      <td>0.0</td>\n",
              "      <td>0.0</td>\n",
              "      <td>0.0</td>\n",
              "      <td>0.0</td>\n",
              "      <td>1.0</td>\n",
              "      <td>0.0</td>\n",
              "      <td>0.0</td>\n",
              "      <td>0.0</td>\n",
              "      <td>0.0</td>\n",
              "      <td>0.0</td>\n",
              "      <td>0.0</td>\n",
              "      <td>0.0</td>\n",
              "      <td>0.0</td>\n",
              "      <td>0.0</td>\n",
              "      <td>0.0</td>\n",
              "      <td>0.0</td>\n",
              "      <td>0.0</td>\n",
              "      <td>0.0</td>\n",
              "      <td>0.0</td>\n",
              "      <td>0.0</td>\n",
              "      <td>0.0</td>\n",
              "      <td>0.0</td>\n",
              "      <td>0.0</td>\n",
              "      <td>0.0</td>\n",
              "      <td>0.0</td>\n",
              "    </tr>\n",
              "    <tr>\n",
              "      <th>1</th>\n",
              "      <td>0.676485</td>\n",
              "      <td>-0.149007</td>\n",
              "      <td>-0.195880</td>\n",
              "      <td>-0.167722</td>\n",
              "      <td>0.134782</td>\n",
              "      <td>-0.658681</td>\n",
              "      <td>0.136006</td>\n",
              "      <td>-0.210128</td>\n",
              "      <td>-1.030898</td>\n",
              "      <td>-0.228412</td>\n",
              "      <td>1.0</td>\n",
              "      <td>0</td>\n",
              "      <td>0</td>\n",
              "      <td>3</td>\n",
              "      <td>7</td>\n",
              "      <td>0.0</td>\n",
              "      <td>0.0</td>\n",
              "      <td>0.0</td>\n",
              "      <td>0.0</td>\n",
              "      <td>0.0</td>\n",
              "      <td>0.0</td>\n",
              "      <td>0.0</td>\n",
              "      <td>0.0</td>\n",
              "      <td>0.0</td>\n",
              "      <td>0.0</td>\n",
              "      <td>0.0</td>\n",
              "      <td>0.0</td>\n",
              "      <td>1.0</td>\n",
              "      <td>0.0</td>\n",
              "      <td>0.0</td>\n",
              "      <td>0.0</td>\n",
              "      <td>0.0</td>\n",
              "      <td>0.0</td>\n",
              "      <td>0.0</td>\n",
              "      <td>0.0</td>\n",
              "      <td>0.0</td>\n",
              "      <td>0.0</td>\n",
              "      <td>0.0</td>\n",
              "      <td>0.0</td>\n",
              "      <td>0.0</td>\n",
              "      <td>...</td>\n",
              "      <td>0.0</td>\n",
              "      <td>0.0</td>\n",
              "      <td>0.0</td>\n",
              "      <td>0.0</td>\n",
              "      <td>0.0</td>\n",
              "      <td>0.0</td>\n",
              "      <td>0.0</td>\n",
              "      <td>0.0</td>\n",
              "      <td>0.0</td>\n",
              "      <td>0.0</td>\n",
              "      <td>0.0</td>\n",
              "      <td>0.0</td>\n",
              "      <td>0.0</td>\n",
              "      <td>0.0</td>\n",
              "      <td>0.0</td>\n",
              "      <td>0.0</td>\n",
              "      <td>0.0</td>\n",
              "      <td>0.0</td>\n",
              "      <td>0.0</td>\n",
              "      <td>0.0</td>\n",
              "      <td>0.0</td>\n",
              "      <td>0.0</td>\n",
              "      <td>0.0</td>\n",
              "      <td>0.0</td>\n",
              "      <td>0.0</td>\n",
              "      <td>0.0</td>\n",
              "      <td>0.0</td>\n",
              "      <td>0.0</td>\n",
              "      <td>0.0</td>\n",
              "      <td>0.0</td>\n",
              "      <td>0.0</td>\n",
              "      <td>0.0</td>\n",
              "      <td>0.0</td>\n",
              "      <td>0.0</td>\n",
              "      <td>0.0</td>\n",
              "      <td>0.0</td>\n",
              "      <td>0.0</td>\n",
              "      <td>0.0</td>\n",
              "      <td>0.0</td>\n",
              "      <td>0.0</td>\n",
              "    </tr>\n",
              "    <tr>\n",
              "      <th>2</th>\n",
              "      <td>0.676485</td>\n",
              "      <td>0.500221</td>\n",
              "      <td>0.522746</td>\n",
              "      <td>-0.267675</td>\n",
              "      <td>0.931814</td>\n",
              "      <td>-0.658681</td>\n",
              "      <td>1.191407</td>\n",
              "      <td>-0.210128</td>\n",
              "      <td>1.493265</td>\n",
              "      <td>-0.287598</td>\n",
              "      <td>2.0</td>\n",
              "      <td>0</td>\n",
              "      <td>0</td>\n",
              "      <td>3</td>\n",
              "      <td>9</td>\n",
              "      <td>0.0</td>\n",
              "      <td>0.0</td>\n",
              "      <td>0.0</td>\n",
              "      <td>0.0</td>\n",
              "      <td>0.0</td>\n",
              "      <td>0.0</td>\n",
              "      <td>0.0</td>\n",
              "      <td>0.0</td>\n",
              "      <td>0.0</td>\n",
              "      <td>0.0</td>\n",
              "      <td>0.0</td>\n",
              "      <td>0.0</td>\n",
              "      <td>0.0</td>\n",
              "      <td>0.0</td>\n",
              "      <td>0.0</td>\n",
              "      <td>0.0</td>\n",
              "      <td>0.0</td>\n",
              "      <td>0.0</td>\n",
              "      <td>0.0</td>\n",
              "      <td>0.0</td>\n",
              "      <td>0.0</td>\n",
              "      <td>0.0</td>\n",
              "      <td>0.0</td>\n",
              "      <td>1.0</td>\n",
              "      <td>0.0</td>\n",
              "      <td>...</td>\n",
              "      <td>0.0</td>\n",
              "      <td>0.0</td>\n",
              "      <td>0.0</td>\n",
              "      <td>0.0</td>\n",
              "      <td>0.0</td>\n",
              "      <td>0.0</td>\n",
              "      <td>0.0</td>\n",
              "      <td>0.0</td>\n",
              "      <td>0.0</td>\n",
              "      <td>0.0</td>\n",
              "      <td>0.0</td>\n",
              "      <td>0.0</td>\n",
              "      <td>0.0</td>\n",
              "      <td>0.0</td>\n",
              "      <td>0.0</td>\n",
              "      <td>0.0</td>\n",
              "      <td>0.0</td>\n",
              "      <td>0.0</td>\n",
              "      <td>0.0</td>\n",
              "      <td>0.0</td>\n",
              "      <td>0.0</td>\n",
              "      <td>0.0</td>\n",
              "      <td>0.0</td>\n",
              "      <td>0.0</td>\n",
              "      <td>0.0</td>\n",
              "      <td>0.0</td>\n",
              "      <td>0.0</td>\n",
              "      <td>0.0</td>\n",
              "      <td>0.0</td>\n",
              "      <td>0.0</td>\n",
              "      <td>0.0</td>\n",
              "      <td>0.0</td>\n",
              "      <td>0.0</td>\n",
              "      <td>0.0</td>\n",
              "      <td>0.0</td>\n",
              "      <td>0.0</td>\n",
              "      <td>0.0</td>\n",
              "      <td>0.0</td>\n",
              "      <td>0.0</td>\n",
              "      <td>0.0</td>\n",
              "    </tr>\n",
              "    <tr>\n",
              "      <th>3</th>\n",
              "      <td>-0.398737</td>\n",
              "      <td>-0.149007</td>\n",
              "      <td>-0.620522</td>\n",
              "      <td>-0.273952</td>\n",
              "      <td>-1.036614</td>\n",
              "      <td>0.651861</td>\n",
              "      <td>-1.566253</td>\n",
              "      <td>-0.210128</td>\n",
              "      <td>-0.695316</td>\n",
              "      <td>-0.329937</td>\n",
              "      <td>1.0</td>\n",
              "      <td>0</td>\n",
              "      <td>0</td>\n",
              "      <td>5</td>\n",
              "      <td>7</td>\n",
              "      <td>0.0</td>\n",
              "      <td>0.0</td>\n",
              "      <td>0.0</td>\n",
              "      <td>0.0</td>\n",
              "      <td>0.0</td>\n",
              "      <td>0.0</td>\n",
              "      <td>0.0</td>\n",
              "      <td>0.0</td>\n",
              "      <td>0.0</td>\n",
              "      <td>0.0</td>\n",
              "      <td>0.0</td>\n",
              "      <td>0.0</td>\n",
              "      <td>0.0</td>\n",
              "      <td>0.0</td>\n",
              "      <td>0.0</td>\n",
              "      <td>0.0</td>\n",
              "      <td>0.0</td>\n",
              "      <td>0.0</td>\n",
              "      <td>0.0</td>\n",
              "      <td>0.0</td>\n",
              "      <td>0.0</td>\n",
              "      <td>0.0</td>\n",
              "      <td>0.0</td>\n",
              "      <td>0.0</td>\n",
              "      <td>0.0</td>\n",
              "      <td>...</td>\n",
              "      <td>0.0</td>\n",
              "      <td>0.0</td>\n",
              "      <td>0.0</td>\n",
              "      <td>0.0</td>\n",
              "      <td>0.0</td>\n",
              "      <td>0.0</td>\n",
              "      <td>0.0</td>\n",
              "      <td>0.0</td>\n",
              "      <td>0.0</td>\n",
              "      <td>0.0</td>\n",
              "      <td>0.0</td>\n",
              "      <td>0.0</td>\n",
              "      <td>0.0</td>\n",
              "      <td>0.0</td>\n",
              "      <td>0.0</td>\n",
              "      <td>0.0</td>\n",
              "      <td>0.0</td>\n",
              "      <td>0.0</td>\n",
              "      <td>0.0</td>\n",
              "      <td>0.0</td>\n",
              "      <td>0.0</td>\n",
              "      <td>0.0</td>\n",
              "      <td>0.0</td>\n",
              "      <td>0.0</td>\n",
              "      <td>0.0</td>\n",
              "      <td>0.0</td>\n",
              "      <td>0.0</td>\n",
              "      <td>0.0</td>\n",
              "      <td>1.0</td>\n",
              "      <td>0.0</td>\n",
              "      <td>0.0</td>\n",
              "      <td>0.0</td>\n",
              "      <td>0.0</td>\n",
              "      <td>0.0</td>\n",
              "      <td>0.0</td>\n",
              "      <td>0.0</td>\n",
              "      <td>0.0</td>\n",
              "      <td>0.0</td>\n",
              "      <td>0.0</td>\n",
              "      <td>0.0</td>\n",
              "    </tr>\n",
              "    <tr>\n",
              "      <th>4</th>\n",
              "      <td>-0.398737</td>\n",
              "      <td>-1.447464</td>\n",
              "      <td>-1.110494</td>\n",
              "      <td>-0.075012</td>\n",
              "      <td>-0.879623</td>\n",
              "      <td>-0.658681</td>\n",
              "      <td>-0.647033</td>\n",
              "      <td>-0.210128</td>\n",
              "      <td>-0.636954</td>\n",
              "      <td>-0.083083</td>\n",
              "      <td>1.0</td>\n",
              "      <td>0</td>\n",
              "      <td>0</td>\n",
              "      <td>3</td>\n",
              "      <td>7</td>\n",
              "      <td>0.0</td>\n",
              "      <td>0.0</td>\n",
              "      <td>0.0</td>\n",
              "      <td>0.0</td>\n",
              "      <td>0.0</td>\n",
              "      <td>0.0</td>\n",
              "      <td>0.0</td>\n",
              "      <td>0.0</td>\n",
              "      <td>0.0</td>\n",
              "      <td>0.0</td>\n",
              "      <td>0.0</td>\n",
              "      <td>0.0</td>\n",
              "      <td>0.0</td>\n",
              "      <td>0.0</td>\n",
              "      <td>0.0</td>\n",
              "      <td>0.0</td>\n",
              "      <td>0.0</td>\n",
              "      <td>0.0</td>\n",
              "      <td>0.0</td>\n",
              "      <td>0.0</td>\n",
              "      <td>0.0</td>\n",
              "      <td>0.0</td>\n",
              "      <td>0.0</td>\n",
              "      <td>0.0</td>\n",
              "      <td>0.0</td>\n",
              "      <td>...</td>\n",
              "      <td>0.0</td>\n",
              "      <td>0.0</td>\n",
              "      <td>0.0</td>\n",
              "      <td>0.0</td>\n",
              "      <td>0.0</td>\n",
              "      <td>0.0</td>\n",
              "      <td>0.0</td>\n",
              "      <td>0.0</td>\n",
              "      <td>0.0</td>\n",
              "      <td>0.0</td>\n",
              "      <td>0.0</td>\n",
              "      <td>0.0</td>\n",
              "      <td>0.0</td>\n",
              "      <td>0.0</td>\n",
              "      <td>0.0</td>\n",
              "      <td>0.0</td>\n",
              "      <td>0.0</td>\n",
              "      <td>0.0</td>\n",
              "      <td>0.0</td>\n",
              "      <td>0.0</td>\n",
              "      <td>0.0</td>\n",
              "      <td>0.0</td>\n",
              "      <td>0.0</td>\n",
              "      <td>0.0</td>\n",
              "      <td>0.0</td>\n",
              "      <td>0.0</td>\n",
              "      <td>0.0</td>\n",
              "      <td>1.0</td>\n",
              "      <td>0.0</td>\n",
              "      <td>0.0</td>\n",
              "      <td>0.0</td>\n",
              "      <td>0.0</td>\n",
              "      <td>0.0</td>\n",
              "      <td>0.0</td>\n",
              "      <td>0.0</td>\n",
              "      <td>0.0</td>\n",
              "      <td>0.0</td>\n",
              "      <td>0.0</td>\n",
              "      <td>0.0</td>\n",
              "      <td>0.0</td>\n",
              "    </tr>\n",
              "  </tbody>\n",
              "</table>\n",
              "<p>5 rows × 85 columns</p>\n",
              "</div>"
            ],
            "text/plain": [
              "          0         1         2  ...  zipcode_67  zipcode_68  zipcode_69\n",
              "0  0.676485 -0.798235 -0.707628  ...         0.0         0.0         0.0\n",
              "1  0.676485 -0.149007 -0.195880  ...         0.0         0.0         0.0\n",
              "2  0.676485  0.500221  0.522746  ...         0.0         0.0         0.0\n",
              "3 -0.398737 -0.149007 -0.620522  ...         0.0         0.0         0.0\n",
              "4 -0.398737 -1.447464 -1.110494  ...         0.0         0.0         0.0\n",
              "\n",
              "[5 rows x 85 columns]"
            ]
          },
          "metadata": {
            "tags": []
          },
          "execution_count": 35
        }
      ]
    },
    {
      "cell_type": "code",
      "metadata": {
        "id": "bxHdryS38FP8",
        "colab_type": "code",
        "colab": {}
      },
      "source": [
        "x_data = np.array(x_data)\n",
        "y_data = np.array(y_data)"
      ],
      "execution_count": 36,
      "outputs": []
    },
    {
      "cell_type": "code",
      "metadata": {
        "id": "6gY-_D9L8MaQ",
        "colab_type": "code",
        "colab": {}
      },
      "source": [
        "train_data = x_data[:-4322]\n",
        "test_data = x_data[-4322:]\n",
        "train_label = y_data[:-4322]\n",
        "test_label = y_data[-4322:]"
      ],
      "execution_count": 37,
      "outputs": []
    },
    {
      "cell_type": "code",
      "metadata": {
        "id": "TZshXodD8R1U",
        "colab_type": "code",
        "colab": {}
      },
      "source": [
        "def build_model():\n",
        "  model = keras.Sequential([\n",
        "                            keras.layers.Dense(64, activation=tf.nn.relu, input_shape=(train_data.shape[1], )),\n",
        "                            keras.layers.Dense(64, activation=tf.nn.relu), \n",
        "                            keras.layers.Dense(1)\n",
        "                            ])\n",
        "  optimizer = tf.optimizers.Adam(0.01)\n",
        "  model.compile(loss='mse', optimizer=optimizer, metrics=['mae'])\n",
        "  return model"
      ],
      "execution_count": 50,
      "outputs": []
    },
    {
      "cell_type": "code",
      "metadata": {
        "id": "i4C93OniPJ-b",
        "colab_type": "code",
        "colab": {
          "base_uri": "https://localhost:8080/",
          "height": 266
        },
        "outputId": "ca2add1a-4287-4a4d-c45b-1cb4a5212607"
      },
      "source": [
        "model = build_model()\n",
        "model.summary()"
      ],
      "execution_count": 51,
      "outputs": [
        {
          "output_type": "stream",
          "text": [
            "Model: \"sequential_6\"\n",
            "_________________________________________________________________\n",
            "Layer (type)                 Output Shape              Param #   \n",
            "=================================================================\n",
            "dense_14 (Dense)             (None, 64)                5504      \n",
            "_________________________________________________________________\n",
            "dense_15 (Dense)             (None, 64)                4160      \n",
            "_________________________________________________________________\n",
            "dense_16 (Dense)             (None, 1)                 65        \n",
            "=================================================================\n",
            "Total params: 9,729\n",
            "Trainable params: 9,729\n",
            "Non-trainable params: 0\n",
            "_________________________________________________________________\n"
          ],
          "name": "stdout"
        }
      ]
    },
    {
      "cell_type": "code",
      "metadata": {
        "id": "10HV0ghvPtvI",
        "colab_type": "code",
        "colab": {
          "base_uri": "https://localhost:8080/",
          "height": 35
        },
        "outputId": "33014a2e-434b-4093-dc22-b487a4d19501"
      },
      "source": [
        "model.fit(train_data, train_label, validation_split=0.2, epochs=100, verbose=0)"
      ],
      "execution_count": 54,
      "outputs": [
        {
          "output_type": "execute_result",
          "data": {
            "text/plain": [
              "<tensorflow.python.keras.callbacks.History at 0x7f684007e438>"
            ]
          },
          "metadata": {
            "tags": []
          },
          "execution_count": 54
        }
      ]
    },
    {
      "cell_type": "code",
      "metadata": {
        "id": "3UWwCLWkQ-LL",
        "colab_type": "code",
        "colab": {
          "base_uri": "https://localhost:8080/",
          "height": 35
        },
        "outputId": "606916d5-b057-436f-e467-0d00d360dc45"
      },
      "source": [
        "loss,mse = model.evaluate(test_data, test_label)"
      ],
      "execution_count": 55,
      "outputs": [
        {
          "output_type": "stream",
          "text": [
            "136/136 [==============================] - 0s 2ms/step - loss: 14984118272.0000 - mae: 72139.5781\n"
          ],
          "name": "stdout"
        }
      ]
    },
    {
      "cell_type": "code",
      "metadata": {
        "id": "Hzo1_cOJTPMe",
        "colab_type": "code",
        "colab": {
          "base_uri": "https://localhost:8080/",
          "height": 35
        },
        "outputId": "44059f29-ab7b-4016-86cd-dbddbfab810d"
      },
      "source": [
        "print('MSE ', mse)"
      ],
      "execution_count": 56,
      "outputs": [
        {
          "output_type": "stream",
          "text": [
            "MSE  72139.578125\n"
          ],
          "name": "stdout"
        }
      ]
    },
    {
      "cell_type": "code",
      "metadata": {
        "id": "Bv6Uk-RbTY1t",
        "colab_type": "code",
        "colab": {
          "base_uri": "https://localhost:8080/",
          "height": 35
        },
        "outputId": "38664c97-9425-4de9-9246-b3a2cc700ded"
      },
      "source": [
        "print('Loss ', loss)"
      ],
      "execution_count": 57,
      "outputs": [
        {
          "output_type": "stream",
          "text": [
            "Loss  14984118272.0\n"
          ],
          "name": "stdout"
        }
      ]
    },
    {
      "cell_type": "code",
      "metadata": {
        "id": "qBhzpzmhTbKF",
        "colab_type": "code",
        "colab": {}
      },
      "source": [
        "train_predict = model.predict(train_data)"
      ],
      "execution_count": 58,
      "outputs": []
    },
    {
      "cell_type": "code",
      "metadata": {
        "id": "wZo8OCkZTgrM",
        "colab_type": "code",
        "colab": {}
      },
      "source": [
        "test_predict = model.predict(test_data).flatten()"
      ],
      "execution_count": 59,
      "outputs": []
    },
    {
      "cell_type": "code",
      "metadata": {
        "id": "ZQoTXg1RTm5J",
        "colab_type": "code",
        "colab": {
          "base_uri": "https://localhost:8080/",
          "height": 35
        },
        "outputId": "c231239b-d077-4c6a-ef18-69841cacb814"
      },
      "source": [
        "print(\"R2 Value of NN \", r2_score(train_label, train_predict))"
      ],
      "execution_count": 60,
      "outputs": [
        {
          "output_type": "stream",
          "text": [
            "R2 Value of NN  0.9032295997706536\n"
          ],
          "name": "stdout"
        }
      ]
    },
    {
      "cell_type": "code",
      "metadata": {
        "id": "dpHWkaxLT3Nd",
        "colab_type": "code",
        "colab": {
          "base_uri": "https://localhost:8080/",
          "height": 35
        },
        "outputId": "045ca834-345b-40ec-82e1-623a7d68f25c"
      },
      "source": [
        "print(\"R2 Value of NN \", r2_score(test_label, test_predict))"
      ],
      "execution_count": 61,
      "outputs": [
        {
          "output_type": "stream",
          "text": [
            "R2 Value of NN  0.9054246735760723\n"
          ],
          "name": "stdout"
        }
      ]
    }
  ]
}