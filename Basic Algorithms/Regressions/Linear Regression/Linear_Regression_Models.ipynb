{
  "nbformat": 4,
  "nbformat_minor": 0,
  "metadata": {
    "colab": {
      "name": "Linear Regression Models.ipynb",
      "provenance": []
    },
    "kernelspec": {
      "name": "python3",
      "display_name": "Python 3"
    }
  },
  "cells": [
    {
      "cell_type": "code",
      "metadata": {
        "id": "_15MUJ3N6lB0",
        "colab_type": "code",
        "colab": {}
      },
      "source": [
        "import matplotlib.pyplot as plt\n",
        "import numpy as np;\n",
        "import pandas as pd;\n",
        "from sklearn import datasets, linear_model, preprocessing\n",
        "from sklearn.metrics import mean_squared_error, r2_score\n",
        "import math\n",
        "from keras.models import Sequential\n",
        "from keras.layers import Dense"
      ],
      "execution_count": 70,
      "outputs": []
    },
    {
      "cell_type": "code",
      "metadata": {
        "id": "VTPq42CR6o9U",
        "colab_type": "code",
        "colab": {}
      },
      "source": [
        "import warnings\n",
        "warnings.filterwarnings('ignore')"
      ],
      "execution_count": 71,
      "outputs": []
    },
    {
      "cell_type": "code",
      "metadata": {
        "id": "dZUzv0DC6zFv",
        "colab_type": "code",
        "colab": {}
      },
      "source": [
        "house_data = pd.read_csv('kc_house_data.csv')"
      ],
      "execution_count": 72,
      "outputs": []
    },
    {
      "cell_type": "code",
      "metadata": {
        "id": "A9ooIdjE62KY",
        "colab_type": "code",
        "colab": {
          "base_uri": "https://localhost:8080/",
          "height": 220
        },
        "outputId": "3326ad2b-92cf-44c8-ab30-0a31c276456b"
      },
      "source": [
        "house_data.head()"
      ],
      "execution_count": 73,
      "outputs": [
        {
          "output_type": "execute_result",
          "data": {
            "text/html": [
              "<div>\n",
              "<style scoped>\n",
              "    .dataframe tbody tr th:only-of-type {\n",
              "        vertical-align: middle;\n",
              "    }\n",
              "\n",
              "    .dataframe tbody tr th {\n",
              "        vertical-align: top;\n",
              "    }\n",
              "\n",
              "    .dataframe thead th {\n",
              "        text-align: right;\n",
              "    }\n",
              "</style>\n",
              "<table border=\"1\" class=\"dataframe\">\n",
              "  <thead>\n",
              "    <tr style=\"text-align: right;\">\n",
              "      <th></th>\n",
              "      <th>id</th>\n",
              "      <th>date</th>\n",
              "      <th>price</th>\n",
              "      <th>bedrooms</th>\n",
              "      <th>bathrooms</th>\n",
              "      <th>sqft_living</th>\n",
              "      <th>sqft_lot</th>\n",
              "      <th>floors</th>\n",
              "      <th>waterfront</th>\n",
              "      <th>view</th>\n",
              "      <th>condition</th>\n",
              "      <th>grade</th>\n",
              "      <th>sqft_above</th>\n",
              "      <th>sqft_basement</th>\n",
              "      <th>yr_built</th>\n",
              "      <th>yr_renovated</th>\n",
              "      <th>zipcode</th>\n",
              "      <th>lat</th>\n",
              "      <th>long</th>\n",
              "      <th>sqft_living15</th>\n",
              "      <th>sqft_lot15</th>\n",
              "    </tr>\n",
              "  </thead>\n",
              "  <tbody>\n",
              "    <tr>\n",
              "      <th>0</th>\n",
              "      <td>7129300520</td>\n",
              "      <td>20141013T000000</td>\n",
              "      <td>221900.0</td>\n",
              "      <td>3</td>\n",
              "      <td>1.00</td>\n",
              "      <td>1180</td>\n",
              "      <td>5650</td>\n",
              "      <td>1.0</td>\n",
              "      <td>0</td>\n",
              "      <td>0</td>\n",
              "      <td>3</td>\n",
              "      <td>7</td>\n",
              "      <td>1180</td>\n",
              "      <td>0</td>\n",
              "      <td>1955</td>\n",
              "      <td>0</td>\n",
              "      <td>98178</td>\n",
              "      <td>47.5112</td>\n",
              "      <td>-122.257</td>\n",
              "      <td>1340</td>\n",
              "      <td>5650</td>\n",
              "    </tr>\n",
              "    <tr>\n",
              "      <th>1</th>\n",
              "      <td>6414100192</td>\n",
              "      <td>20141209T000000</td>\n",
              "      <td>538000.0</td>\n",
              "      <td>3</td>\n",
              "      <td>2.25</td>\n",
              "      <td>2570</td>\n",
              "      <td>7242</td>\n",
              "      <td>2.0</td>\n",
              "      <td>0</td>\n",
              "      <td>0</td>\n",
              "      <td>3</td>\n",
              "      <td>7</td>\n",
              "      <td>2170</td>\n",
              "      <td>400</td>\n",
              "      <td>1951</td>\n",
              "      <td>1991</td>\n",
              "      <td>98125</td>\n",
              "      <td>47.7210</td>\n",
              "      <td>-122.319</td>\n",
              "      <td>1690</td>\n",
              "      <td>7639</td>\n",
              "    </tr>\n",
              "    <tr>\n",
              "      <th>2</th>\n",
              "      <td>5631500400</td>\n",
              "      <td>20150225T000000</td>\n",
              "      <td>180000.0</td>\n",
              "      <td>2</td>\n",
              "      <td>1.00</td>\n",
              "      <td>770</td>\n",
              "      <td>10000</td>\n",
              "      <td>1.0</td>\n",
              "      <td>0</td>\n",
              "      <td>0</td>\n",
              "      <td>3</td>\n",
              "      <td>6</td>\n",
              "      <td>770</td>\n",
              "      <td>0</td>\n",
              "      <td>1933</td>\n",
              "      <td>0</td>\n",
              "      <td>98028</td>\n",
              "      <td>47.7379</td>\n",
              "      <td>-122.233</td>\n",
              "      <td>2720</td>\n",
              "      <td>8062</td>\n",
              "    </tr>\n",
              "    <tr>\n",
              "      <th>3</th>\n",
              "      <td>2487200875</td>\n",
              "      <td>20141209T000000</td>\n",
              "      <td>604000.0</td>\n",
              "      <td>4</td>\n",
              "      <td>3.00</td>\n",
              "      <td>1960</td>\n",
              "      <td>5000</td>\n",
              "      <td>1.0</td>\n",
              "      <td>0</td>\n",
              "      <td>0</td>\n",
              "      <td>5</td>\n",
              "      <td>7</td>\n",
              "      <td>1050</td>\n",
              "      <td>910</td>\n",
              "      <td>1965</td>\n",
              "      <td>0</td>\n",
              "      <td>98136</td>\n",
              "      <td>47.5208</td>\n",
              "      <td>-122.393</td>\n",
              "      <td>1360</td>\n",
              "      <td>5000</td>\n",
              "    </tr>\n",
              "    <tr>\n",
              "      <th>4</th>\n",
              "      <td>1954400510</td>\n",
              "      <td>20150218T000000</td>\n",
              "      <td>510000.0</td>\n",
              "      <td>3</td>\n",
              "      <td>2.00</td>\n",
              "      <td>1680</td>\n",
              "      <td>8080</td>\n",
              "      <td>1.0</td>\n",
              "      <td>0</td>\n",
              "      <td>0</td>\n",
              "      <td>3</td>\n",
              "      <td>8</td>\n",
              "      <td>1680</td>\n",
              "      <td>0</td>\n",
              "      <td>1987</td>\n",
              "      <td>0</td>\n",
              "      <td>98074</td>\n",
              "      <td>47.6168</td>\n",
              "      <td>-122.045</td>\n",
              "      <td>1800</td>\n",
              "      <td>7503</td>\n",
              "    </tr>\n",
              "  </tbody>\n",
              "</table>\n",
              "</div>"
            ],
            "text/plain": [
              "           id             date     price  ...     long  sqft_living15  sqft_lot15\n",
              "0  7129300520  20141013T000000  221900.0  ... -122.257           1340        5650\n",
              "1  6414100192  20141209T000000  538000.0  ... -122.319           1690        7639\n",
              "2  5631500400  20150225T000000  180000.0  ... -122.233           2720        8062\n",
              "3  2487200875  20141209T000000  604000.0  ... -122.393           1360        5000\n",
              "4  1954400510  20150218T000000  510000.0  ... -122.045           1800        7503\n",
              "\n",
              "[5 rows x 21 columns]"
            ]
          },
          "metadata": {
            "tags": []
          },
          "execution_count": 73
        }
      ]
    },
    {
      "cell_type": "code",
      "metadata": {
        "id": "pDu4CvUX7Dik",
        "colab_type": "code",
        "colab": {
          "base_uri": "https://localhost:8080/",
          "height": 311
        },
        "outputId": "77015520-575a-411f-db28-f3a6b00bad25"
      },
      "source": [
        "house_data.describe()"
      ],
      "execution_count": 74,
      "outputs": [
        {
          "output_type": "execute_result",
          "data": {
            "text/html": [
              "<div>\n",
              "<style scoped>\n",
              "    .dataframe tbody tr th:only-of-type {\n",
              "        vertical-align: middle;\n",
              "    }\n",
              "\n",
              "    .dataframe tbody tr th {\n",
              "        vertical-align: top;\n",
              "    }\n",
              "\n",
              "    .dataframe thead th {\n",
              "        text-align: right;\n",
              "    }\n",
              "</style>\n",
              "<table border=\"1\" class=\"dataframe\">\n",
              "  <thead>\n",
              "    <tr style=\"text-align: right;\">\n",
              "      <th></th>\n",
              "      <th>id</th>\n",
              "      <th>price</th>\n",
              "      <th>bedrooms</th>\n",
              "      <th>bathrooms</th>\n",
              "      <th>sqft_living</th>\n",
              "      <th>sqft_lot</th>\n",
              "      <th>floors</th>\n",
              "      <th>waterfront</th>\n",
              "      <th>view</th>\n",
              "      <th>condition</th>\n",
              "      <th>grade</th>\n",
              "      <th>sqft_above</th>\n",
              "      <th>sqft_basement</th>\n",
              "      <th>yr_built</th>\n",
              "      <th>yr_renovated</th>\n",
              "      <th>zipcode</th>\n",
              "      <th>lat</th>\n",
              "      <th>long</th>\n",
              "      <th>sqft_living15</th>\n",
              "      <th>sqft_lot15</th>\n",
              "    </tr>\n",
              "  </thead>\n",
              "  <tbody>\n",
              "    <tr>\n",
              "      <th>count</th>\n",
              "      <td>2.161300e+04</td>\n",
              "      <td>2.161300e+04</td>\n",
              "      <td>21613.000000</td>\n",
              "      <td>21613.000000</td>\n",
              "      <td>21613.000000</td>\n",
              "      <td>2.161300e+04</td>\n",
              "      <td>21613.000000</td>\n",
              "      <td>21613.000000</td>\n",
              "      <td>21613.000000</td>\n",
              "      <td>21613.000000</td>\n",
              "      <td>21613.000000</td>\n",
              "      <td>21613.000000</td>\n",
              "      <td>21613.000000</td>\n",
              "      <td>21613.000000</td>\n",
              "      <td>21613.000000</td>\n",
              "      <td>21613.000000</td>\n",
              "      <td>21613.000000</td>\n",
              "      <td>21613.000000</td>\n",
              "      <td>21613.000000</td>\n",
              "      <td>21613.000000</td>\n",
              "    </tr>\n",
              "    <tr>\n",
              "      <th>mean</th>\n",
              "      <td>4.580302e+09</td>\n",
              "      <td>5.400881e+05</td>\n",
              "      <td>3.370842</td>\n",
              "      <td>2.114757</td>\n",
              "      <td>2079.899736</td>\n",
              "      <td>1.510697e+04</td>\n",
              "      <td>1.494309</td>\n",
              "      <td>0.007542</td>\n",
              "      <td>0.234303</td>\n",
              "      <td>3.409430</td>\n",
              "      <td>7.656873</td>\n",
              "      <td>1788.390691</td>\n",
              "      <td>291.509045</td>\n",
              "      <td>1971.005136</td>\n",
              "      <td>84.402258</td>\n",
              "      <td>98077.939805</td>\n",
              "      <td>47.560053</td>\n",
              "      <td>-122.213896</td>\n",
              "      <td>1986.552492</td>\n",
              "      <td>12768.455652</td>\n",
              "    </tr>\n",
              "    <tr>\n",
              "      <th>std</th>\n",
              "      <td>2.876566e+09</td>\n",
              "      <td>3.671272e+05</td>\n",
              "      <td>0.930062</td>\n",
              "      <td>0.770163</td>\n",
              "      <td>918.440897</td>\n",
              "      <td>4.142051e+04</td>\n",
              "      <td>0.539989</td>\n",
              "      <td>0.086517</td>\n",
              "      <td>0.766318</td>\n",
              "      <td>0.650743</td>\n",
              "      <td>1.175459</td>\n",
              "      <td>828.090978</td>\n",
              "      <td>442.575043</td>\n",
              "      <td>29.373411</td>\n",
              "      <td>401.679240</td>\n",
              "      <td>53.505026</td>\n",
              "      <td>0.138564</td>\n",
              "      <td>0.140828</td>\n",
              "      <td>685.391304</td>\n",
              "      <td>27304.179631</td>\n",
              "    </tr>\n",
              "    <tr>\n",
              "      <th>min</th>\n",
              "      <td>1.000102e+06</td>\n",
              "      <td>7.500000e+04</td>\n",
              "      <td>0.000000</td>\n",
              "      <td>0.000000</td>\n",
              "      <td>290.000000</td>\n",
              "      <td>5.200000e+02</td>\n",
              "      <td>1.000000</td>\n",
              "      <td>0.000000</td>\n",
              "      <td>0.000000</td>\n",
              "      <td>1.000000</td>\n",
              "      <td>1.000000</td>\n",
              "      <td>290.000000</td>\n",
              "      <td>0.000000</td>\n",
              "      <td>1900.000000</td>\n",
              "      <td>0.000000</td>\n",
              "      <td>98001.000000</td>\n",
              "      <td>47.155900</td>\n",
              "      <td>-122.519000</td>\n",
              "      <td>399.000000</td>\n",
              "      <td>651.000000</td>\n",
              "    </tr>\n",
              "    <tr>\n",
              "      <th>25%</th>\n",
              "      <td>2.123049e+09</td>\n",
              "      <td>3.219500e+05</td>\n",
              "      <td>3.000000</td>\n",
              "      <td>1.750000</td>\n",
              "      <td>1427.000000</td>\n",
              "      <td>5.040000e+03</td>\n",
              "      <td>1.000000</td>\n",
              "      <td>0.000000</td>\n",
              "      <td>0.000000</td>\n",
              "      <td>3.000000</td>\n",
              "      <td>7.000000</td>\n",
              "      <td>1190.000000</td>\n",
              "      <td>0.000000</td>\n",
              "      <td>1951.000000</td>\n",
              "      <td>0.000000</td>\n",
              "      <td>98033.000000</td>\n",
              "      <td>47.471000</td>\n",
              "      <td>-122.328000</td>\n",
              "      <td>1490.000000</td>\n",
              "      <td>5100.000000</td>\n",
              "    </tr>\n",
              "    <tr>\n",
              "      <th>50%</th>\n",
              "      <td>3.904930e+09</td>\n",
              "      <td>4.500000e+05</td>\n",
              "      <td>3.000000</td>\n",
              "      <td>2.250000</td>\n",
              "      <td>1910.000000</td>\n",
              "      <td>7.618000e+03</td>\n",
              "      <td>1.500000</td>\n",
              "      <td>0.000000</td>\n",
              "      <td>0.000000</td>\n",
              "      <td>3.000000</td>\n",
              "      <td>7.000000</td>\n",
              "      <td>1560.000000</td>\n",
              "      <td>0.000000</td>\n",
              "      <td>1975.000000</td>\n",
              "      <td>0.000000</td>\n",
              "      <td>98065.000000</td>\n",
              "      <td>47.571800</td>\n",
              "      <td>-122.230000</td>\n",
              "      <td>1840.000000</td>\n",
              "      <td>7620.000000</td>\n",
              "    </tr>\n",
              "    <tr>\n",
              "      <th>75%</th>\n",
              "      <td>7.308900e+09</td>\n",
              "      <td>6.450000e+05</td>\n",
              "      <td>4.000000</td>\n",
              "      <td>2.500000</td>\n",
              "      <td>2550.000000</td>\n",
              "      <td>1.068800e+04</td>\n",
              "      <td>2.000000</td>\n",
              "      <td>0.000000</td>\n",
              "      <td>0.000000</td>\n",
              "      <td>4.000000</td>\n",
              "      <td>8.000000</td>\n",
              "      <td>2210.000000</td>\n",
              "      <td>560.000000</td>\n",
              "      <td>1997.000000</td>\n",
              "      <td>0.000000</td>\n",
              "      <td>98118.000000</td>\n",
              "      <td>47.678000</td>\n",
              "      <td>-122.125000</td>\n",
              "      <td>2360.000000</td>\n",
              "      <td>10083.000000</td>\n",
              "    </tr>\n",
              "    <tr>\n",
              "      <th>max</th>\n",
              "      <td>9.900000e+09</td>\n",
              "      <td>7.700000e+06</td>\n",
              "      <td>33.000000</td>\n",
              "      <td>8.000000</td>\n",
              "      <td>13540.000000</td>\n",
              "      <td>1.651359e+06</td>\n",
              "      <td>3.500000</td>\n",
              "      <td>1.000000</td>\n",
              "      <td>4.000000</td>\n",
              "      <td>5.000000</td>\n",
              "      <td>13.000000</td>\n",
              "      <td>9410.000000</td>\n",
              "      <td>4820.000000</td>\n",
              "      <td>2015.000000</td>\n",
              "      <td>2015.000000</td>\n",
              "      <td>98199.000000</td>\n",
              "      <td>47.777600</td>\n",
              "      <td>-121.315000</td>\n",
              "      <td>6210.000000</td>\n",
              "      <td>871200.000000</td>\n",
              "    </tr>\n",
              "  </tbody>\n",
              "</table>\n",
              "</div>"
            ],
            "text/plain": [
              "                 id         price  ...  sqft_living15     sqft_lot15\n",
              "count  2.161300e+04  2.161300e+04  ...   21613.000000   21613.000000\n",
              "mean   4.580302e+09  5.400881e+05  ...    1986.552492   12768.455652\n",
              "std    2.876566e+09  3.671272e+05  ...     685.391304   27304.179631\n",
              "min    1.000102e+06  7.500000e+04  ...     399.000000     651.000000\n",
              "25%    2.123049e+09  3.219500e+05  ...    1490.000000    5100.000000\n",
              "50%    3.904930e+09  4.500000e+05  ...    1840.000000    7620.000000\n",
              "75%    7.308900e+09  6.450000e+05  ...    2360.000000   10083.000000\n",
              "max    9.900000e+09  7.700000e+06  ...    6210.000000  871200.000000\n",
              "\n",
              "[8 rows x 20 columns]"
            ]
          },
          "metadata": {
            "tags": []
          },
          "execution_count": 74
        }
      ]
    },
    {
      "cell_type": "code",
      "metadata": {
        "id": "GhcCL-lw7FWW",
        "colab_type": "code",
        "colab": {}
      },
      "source": [
        "house_data = house_data.sample(frac=1).reset_index(drop=True)"
      ],
      "execution_count": 75,
      "outputs": []
    },
    {
      "cell_type": "code",
      "metadata": {
        "id": "FwQr9cGG7HAh",
        "colab_type": "code",
        "colab": {}
      },
      "source": [
        "x_data = house_data['sqft_living'];\n",
        "y_data = house_data['price'];"
      ],
      "execution_count": 76,
      "outputs": []
    },
    {
      "cell_type": "code",
      "metadata": {
        "id": "yPbQBZ4y7IiM",
        "colab_type": "code",
        "colab": {}
      },
      "source": [
        "x_data = np.array(x_data)\n",
        "y_data = np.array(y_data)"
      ],
      "execution_count": 77,
      "outputs": []
    },
    {
      "cell_type": "code",
      "metadata": {
        "id": "PTWJcH-G7J3p",
        "colab_type": "code",
        "colab": {
          "base_uri": "https://localhost:8080/",
          "height": 35
        },
        "outputId": "60bcf48c-c7f9-4145-b8de-2e9a40098e5e"
      },
      "source": [
        "x_data.shape"
      ],
      "execution_count": 78,
      "outputs": [
        {
          "output_type": "execute_result",
          "data": {
            "text/plain": [
              "(21613,)"
            ]
          },
          "metadata": {
            "tags": []
          },
          "execution_count": 78
        }
      ]
    },
    {
      "cell_type": "code",
      "metadata": {
        "id": "03KkMC9-7LZN",
        "colab_type": "code",
        "colab": {}
      },
      "source": [
        "x_data = x_data.reshape(-1,1)\n",
        "y_data = y_data.reshape(-1,1)"
      ],
      "execution_count": 79,
      "outputs": []
    },
    {
      "cell_type": "code",
      "metadata": {
        "id": "HqSUkmXaFGU8",
        "colab_type": "code",
        "colab": {}
      },
      "source": [
        "ss = preprocessing.StandardScaler()\n",
        "x_data = ss.fit_transform(x_data)"
      ],
      "execution_count": 80,
      "outputs": []
    },
    {
      "cell_type": "code",
      "metadata": {
        "id": "e2SbPtvz7M_N",
        "colab_type": "code",
        "colab": {}
      },
      "source": [
        "train_x_data = x_data[:-4322]\n",
        "test_x_data = x_data[-4322:]"
      ],
      "execution_count": 81,
      "outputs": []
    },
    {
      "cell_type": "code",
      "metadata": {
        "id": "GeOZtD357OXz",
        "colab_type": "code",
        "colab": {
          "base_uri": "https://localhost:8080/",
          "height": 35
        },
        "outputId": "ba6d6bf4-9fa4-43aa-831c-90a6b2b7b5c4"
      },
      "source": [
        "train_x_data.shape"
      ],
      "execution_count": 82,
      "outputs": [
        {
          "output_type": "execute_result",
          "data": {
            "text/plain": [
              "(17291, 1)"
            ]
          },
          "metadata": {
            "tags": []
          },
          "execution_count": 82
        }
      ]
    },
    {
      "cell_type": "code",
      "metadata": {
        "id": "qTUBRq5Q7PrI",
        "colab_type": "code",
        "colab": {}
      },
      "source": [
        "train_y_data = y_data[:-4322]\n",
        "test_y_data = y_data[-4322:]"
      ],
      "execution_count": 83,
      "outputs": []
    },
    {
      "cell_type": "code",
      "metadata": {
        "id": "RQc5UTuB7RXc",
        "colab_type": "code",
        "colab": {}
      },
      "source": [
        "regr = linear_model.LinearRegression();"
      ],
      "execution_count": 84,
      "outputs": []
    },
    {
      "cell_type": "code",
      "metadata": {
        "id": "TOcUm38e7TCa",
        "colab_type": "code",
        "colab": {}
      },
      "source": [
        "regr.fit(train_x_data, train_y_data);"
      ],
      "execution_count": 85,
      "outputs": []
    },
    {
      "cell_type": "code",
      "metadata": {
        "id": "WF3EvkfD8MGB",
        "colab_type": "code",
        "colab": {
          "base_uri": "https://localhost:8080/",
          "height": 35
        },
        "outputId": "4b11b0aa-7023-492d-a839-e43a0f0c3378"
      },
      "source": [
        "regr"
      ],
      "execution_count": 86,
      "outputs": [
        {
          "output_type": "execute_result",
          "data": {
            "text/plain": [
              "LinearRegression(copy_X=True, fit_intercept=True, n_jobs=None, normalize=False)"
            ]
          },
          "metadata": {
            "tags": []
          },
          "execution_count": 86
        }
      ]
    },
    {
      "cell_type": "code",
      "metadata": {
        "id": "2AEpbQv_8Nxs",
        "colab_type": "code",
        "colab": {}
      },
      "source": [
        "train_pred = regr.predict(train_x_data);"
      ],
      "execution_count": 87,
      "outputs": []
    },
    {
      "cell_type": "code",
      "metadata": {
        "id": "VOCZ_xA18cBo",
        "colab_type": "code",
        "colab": {}
      },
      "source": [
        "test_pred = regr.predict(test_x_data)"
      ],
      "execution_count": 88,
      "outputs": []
    },
    {
      "cell_type": "code",
      "metadata": {
        "id": "aexai0vc8miA",
        "colab_type": "code",
        "colab": {
          "base_uri": "https://localhost:8080/",
          "height": 35
        },
        "outputId": "1609043e-6d04-4eb5-f12b-cc97dab9f5ca"
      },
      "source": [
        "regr.coef_"
      ],
      "execution_count": 89,
      "outputs": [
        {
          "output_type": "execute_result",
          "data": {
            "text/plain": [
              "array([[255098.54269211]])"
            ]
          },
          "metadata": {
            "tags": []
          },
          "execution_count": 89
        }
      ]
    },
    {
      "cell_type": "code",
      "metadata": {
        "id": "mHwU7pam8uwx",
        "colab_type": "code",
        "colab": {
          "base_uri": "https://localhost:8080/",
          "height": 35
        },
        "outputId": "68726227-6352-488a-c881-94f45541fdc7"
      },
      "source": [
        "regr.intercept_"
      ],
      "execution_count": 90,
      "outputs": [
        {
          "output_type": "execute_result",
          "data": {
            "text/plain": [
              "array([539330.51478598])"
            ]
          },
          "metadata": {
            "tags": []
          },
          "execution_count": 90
        }
      ]
    },
    {
      "cell_type": "code",
      "metadata": {
        "id": "Mgq6Dghc8z4V",
        "colab_type": "code",
        "colab": {}
      },
      "source": [
        "error = mean_squared_error(y_true=test_y_data, y_pred=test_pred)"
      ],
      "execution_count": 91,
      "outputs": []
    },
    {
      "cell_type": "code",
      "metadata": {
        "id": "K5cAWNi09C3o",
        "colab_type": "code",
        "colab": {
          "base_uri": "https://localhost:8080/",
          "height": 35
        },
        "outputId": "0bd06735-c7c4-4704-8f18-59f253944483"
      },
      "source": [
        "math.sqrt(error)"
      ],
      "execution_count": 92,
      "outputs": [
        {
          "output_type": "execute_result",
          "data": {
            "text/plain": [
              "270394.76124132326"
            ]
          },
          "metadata": {
            "tags": []
          },
          "execution_count": 92
        }
      ]
    },
    {
      "cell_type": "code",
      "metadata": {
        "id": "mSPIQxNO9XFu",
        "colab_type": "code",
        "colab": {
          "base_uri": "https://localhost:8080/",
          "height": 35
        },
        "outputId": "e988e502-a60f-44f9-f83d-ede06dea26dd"
      },
      "source": [
        "r2_score(train_y_data, train_pred)"
      ],
      "execution_count": 93,
      "outputs": [
        {
          "output_type": "execute_result",
          "data": {
            "text/plain": [
              "0.4895967219571731"
            ]
          },
          "metadata": {
            "tags": []
          },
          "execution_count": 93
        }
      ]
    },
    {
      "cell_type": "code",
      "metadata": {
        "id": "3MnrDknh9qkG",
        "colab_type": "code",
        "colab": {
          "base_uri": "https://localhost:8080/",
          "height": 35
        },
        "outputId": "9f017036-4d92-4316-8556-57d103cf49e1"
      },
      "source": [
        "r2_score(test_y_data, test_pred)"
      ],
      "execution_count": 94,
      "outputs": [
        {
          "output_type": "execute_result",
          "data": {
            "text/plain": [
              "0.5041968943614799"
            ]
          },
          "metadata": {
            "tags": []
          },
          "execution_count": 94
        }
      ]
    },
    {
      "cell_type": "code",
      "metadata": {
        "id": "GJNHvy6c92W0",
        "colab_type": "code",
        "colab": {
          "base_uri": "https://localhost:8080/",
          "height": 494
        },
        "outputId": "0fcef280-a4c9-4b65-b6f7-e20c4f17265b"
      },
      "source": [
        "plt.figure(figsize=(8,8))\n",
        "plt.scatter(train_x_data, train_y_data, color='gray')\n",
        "plt.plot(train_x_data, train_pred, color='blue')\n",
        "plt.show()"
      ],
      "execution_count": 95,
      "outputs": [
        {
          "output_type": "display_data",
          "data": {
            "image/png": "[encoded data removed]",
            "text/plain": [
              "<Figure size 576x576 with 1 Axes>"
            ]
          },
          "metadata": {
            "tags": [],
            "needs_background": "light"
          }
        }
      ]
    },
    {
      "cell_type": "code",
      "metadata": {
        "id": "imLJ40pj-SBE",
        "colab_type": "code",
        "colab": {}
      },
      "source": [
        ""
      ],
      "execution_count": 95,
      "outputs": []
    },
    {
      "cell_type": "markdown",
      "metadata": {
        "id": "XQhKYQtM_CCx",
        "colab_type": "text"
      },
      "source": [
        "NN Model"
      ]
    },
    {
      "cell_type": "code",
      "metadata": {
        "id": "1e0LH51z_Dz4",
        "colab_type": "code",
        "colab": {}
      },
      "source": [
        "model = Sequential();"
      ],
      "execution_count": 96,
      "outputs": []
    },
    {
      "cell_type": "code",
      "metadata": {
        "id": "XhRwRf7D_F7a",
        "colab_type": "code",
        "colab": {}
      },
      "source": [
        "model.add(Dense(input_dim=1, output_dim=1, init='uniform', activation='linear'))"
      ],
      "execution_count": 97,
      "outputs": []
    },
    {
      "cell_type": "code",
      "metadata": {
        "id": "0oDkIyTZ_dPB",
        "colab_type": "code",
        "colab": {
          "base_uri": "https://localhost:8080/",
          "height": 195
        },
        "outputId": "1e0237eb-4c3b-49cf-b010-18d1c607bd74"
      },
      "source": [
        "model.summary()"
      ],
      "execution_count": 98,
      "outputs": [
        {
          "output_type": "stream",
          "text": [
            "Model: \"sequential_2\"\n",
            "_________________________________________________________________\n",
            "Layer (type)                 Output Shape              Param #   \n",
            "=================================================================\n",
            "dense_2 (Dense)              (None, 1)                 2         \n",
            "=================================================================\n",
            "Total params: 2\n",
            "Trainable params: 2\n",
            "Non-trainable params: 0\n",
            "_________________________________________________________________\n"
          ],
          "name": "stdout"
        }
      ]
    },
    {
      "cell_type": "code",
      "metadata": {
        "id": "W_vRpJDv_-ip",
        "colab_type": "code",
        "colab": {
          "base_uri": "https://localhost:8080/",
          "height": 35
        },
        "outputId": "e921b61c-17ed-464b-8520-f9748e50b5d0"
      },
      "source": [
        "model.layers[0].get_weights()"
      ],
      "execution_count": 99,
      "outputs": [
        {
          "output_type": "execute_result",
          "data": {
            "text/plain": [
              "[array([[-0.02004523]], dtype=float32), array([0.], dtype=float32)]"
            ]
          },
          "metadata": {
            "tags": []
          },
          "execution_count": 99
        }
      ]
    },
    {
      "cell_type": "code",
      "metadata": {
        "id": "x-PNB6YQAUjq",
        "colab_type": "code",
        "colab": {}
      },
      "source": [
        "model.compile(optimizer='sgd', loss='mse', metrics=['mae'])"
      ],
      "execution_count": 100,
      "outputs": []
    },
    {
      "cell_type": "code",
      "metadata": {
        "id": "SyoRmiBfA3Y2",
        "colab_type": "code",
        "colab": {
          "base_uri": "https://localhost:8080/",
          "height": 1000
        },
        "outputId": "823636b5-d091-4a00-b42b-4d54256d9d9b"
      },
      "source": [
        "history = model.fit(train_x_data, train_y_data, validation_split=0.2, epochs=300, verbose=1)"
      ],
      "execution_count": 101,
      "outputs": [
        {
          "output_type": "stream",
          "text": [
            "Train on 13832 samples, validate on 3459 samples\n",
            "Epoch 1/300\n",
            "13832/13832 [==============================] - 0s 33us/step - loss: 88160549815.1533 - mae: 193101.1562 - val_loss: 66874966963.3258 - val_mae: 175105.4688\n",
            "Epoch 2/300\n",
            "13832/13832 [==============================] - 0s 31us/step - loss: 67536364026.9659 - mae: 171534.2188 - val_loss: 66988741802.8147 - val_mae: 178692.7500\n",
            "Epoch 3/300\n",
            "13832/13832 [==============================] - 0s 31us/step - loss: 67537073831.3106 - mae: 172485.8438 - val_loss: 66828148117.8699 - val_mae: 175587.4531\n",
            "Epoch 4/300\n",
            "13832/13832 [==============================] - 0s 30us/step - loss: 67241579140.3678 - mae: 171928.0938 - val_loss: 66751070837.9717 - val_mae: 176438.8906\n",
            "Epoch 5/300\n",
            "13832/13832 [==============================] - 0s 30us/step - loss: 67354610566.5888 - mae: 171127.9688 - val_loss: 68399697831.1882 - val_mae: 184641.5469\n",
            "Epoch 6/300\n",
            "13832/13832 [==============================] - 0s 30us/step - loss: 67635362683.9283 - mae: 172855.4375 - val_loss: 67031310793.0847 - val_mae: 174323.9844\n",
            "Epoch 7/300\n",
            "13832/13832 [==============================] - 0s 30us/step - loss: 67539786609.8600 - mae: 171530.7344 - val_loss: 66769977888.7123 - val_mae: 176876.3906\n",
            "Epoch 8/300\n",
            "13832/13832 [==============================] - 0s 30us/step - loss: 67544290184.9578 - mae: 171668.3750 - val_loss: 67225262865.6883 - val_mae: 180297.9531\n",
            "Epoch 9/300\n",
            "13832/13832 [==============================] - 0s 29us/step - loss: 67478587367.1255 - mae: 171943.3438 - val_loss: 67174436798.8714 - val_mae: 179942.2656\n",
            "Epoch 10/300\n",
            "13832/13832 [==============================] - 0s 31us/step - loss: 67528260234.2903 - mae: 172354.0000 - val_loss: 66761930782.1960 - val_mae: 176757.3438\n",
            "Epoch 11/300\n",
            "13832/13832 [==============================] - 0s 30us/step - loss: 67588171007.2597 - mae: 171691.6406 - val_loss: 66851093230.1636 - val_mae: 177729.0000\n",
            "Epoch 12/300\n",
            "13832/13832 [==============================] - 0s 29us/step - loss: 67431514543.1579 - mae: 171606.3750 - val_loss: 67473087154.9558 - val_mae: 181568.2344\n",
            "Epoch 13/300\n",
            "13832/13832 [==============================] - 0s 30us/step - loss: 67598709375.6298 - mae: 172653.2656 - val_loss: 66816043960.6545 - val_mae: 175303.7969\n",
            "Epoch 14/300\n",
            "13832/13832 [==============================] - 0s 31us/step - loss: 67582377256.7172 - mae: 171571.5625 - val_loss: 66860544860.8823 - val_mae: 178240.4219\n",
            "Epoch 15/300\n",
            "13832/13832 [==============================] - 0s 29us/step - loss: 67481713944.1342 - mae: 171844.7812 - val_loss: 66877198995.5756 - val_mae: 177711.9844\n",
            "Epoch 16/300\n",
            "13832/13832 [==============================] - 0s 30us/step - loss: 67518933215.8704 - mae: 172136.6094 - val_loss: 66769357286.0966 - val_mae: 176127.2969\n",
            "Epoch 17/300\n",
            "13832/13832 [==============================] - 0s 29us/step - loss: 67581073993.1429 - mae: 171582.5156 - val_loss: 67219636512.9344 - val_mae: 179328.3125\n",
            "Epoch 18/300\n",
            "13832/13832 [==============================] - 0s 29us/step - loss: 67535796028.5575 - mae: 172298.4688 - val_loss: 66813039786.8147 - val_mae: 175489.2031\n",
            "Epoch 19/300\n",
            "13832/13832 [==============================] - 0s 29us/step - loss: 67623928322.0729 - mae: 172025.6719 - val_loss: 66901040415.4542 - val_mae: 174735.2656\n",
            "Epoch 20/300\n",
            "13832/13832 [==============================] - 0s 30us/step - loss: 67538717909.8022 - mae: 171493.9375 - val_loss: 67287316349.1506 - val_mae: 180025.7656\n",
            "Epoch 21/300\n",
            "13832/13832 [==============================] - 0s 32us/step - loss: 67639068786.8965 - mae: 172222.4062 - val_loss: 66865017441.8410 - val_mae: 177479.9375\n",
            "Epoch 22/300\n",
            "13832/13832 [==============================] - 0s 29us/step - loss: 67521756748.1041 - mae: 172060.8125 - val_loss: 66763353315.0622 - val_mae: 177017.3594\n",
            "Epoch 23/300\n",
            "13832/13832 [==============================] - 0s 30us/step - loss: 67523337298.3227 - mae: 171750.5625 - val_loss: 66783926039.3131 - val_mae: 177538.1406\n",
            "Epoch 24/300\n",
            "13832/13832 [==============================] - 0s 29us/step - loss: 67390626506.2533 - mae: 171742.9688 - val_loss: 67333565188.6626 - val_mae: 181031.3906\n",
            "Epoch 25/300\n",
            "13832/13832 [==============================] - 0s 30us/step - loss: 67542895509.9873 - mae: 172709.4062 - val_loss: 66864998012.1885 - val_mae: 175096.2969\n",
            "Epoch 26/300\n",
            "13832/13832 [==============================] - 0s 29us/step - loss: 67578114964.8028 - mae: 171727.4219 - val_loss: 66796820370.4655 - val_mae: 176650.9219\n",
            "Epoch 27/300\n",
            "13832/13832 [==============================] - 0s 29us/step - loss: 67545523263.3707 - mae: 171603.1719 - val_loss: 67068024537.7369 - val_mae: 179845.8594\n",
            "Epoch 28/300\n",
            "13832/13832 [==============================] - 0s 30us/step - loss: 67465410011.5766 - mae: 171554.5000 - val_loss: 67893193348.7736 - val_mae: 183576.7812\n",
            "Epoch 29/300\n",
            "13832/13832 [==============================] - 0s 29us/step - loss: 67540113909.0434 - mae: 172539.2812 - val_loss: 67903996917.6386 - val_mae: 183136.5156\n",
            "Epoch 30/300\n",
            "13832/13832 [==============================] - 0s 30us/step - loss: 67574851014.2556 - mae: 172422.1406 - val_loss: 66857422280.7887 - val_mae: 178143.9844\n",
            "Epoch 31/300\n",
            "13832/13832 [==============================] - 0s 30us/step - loss: 67415713520.7496 - mae: 172505.6406 - val_loss: 67336381100.4429 - val_mae: 173139.2031\n",
            "Epoch 32/300\n",
            "13832/13832 [==============================] - 0s 29us/step - loss: 67558894891.0862 - mae: 171747.2031 - val_loss: 66838540983.1003 - val_mae: 175138.2812\n",
            "Epoch 33/300\n",
            "13832/13832 [==============================] - 0s 33us/step - loss: 67421496979.1741 - mae: 171371.8438 - val_loss: 66958474032.4764 - val_mae: 178909.5781\n",
            "Epoch 34/300\n",
            "13832/13832 [==============================] - 0s 33us/step - loss: 67393245882.8548 - mae: 172027.8281 - val_loss: 67047216341.4444 - val_mae: 179296.8750\n",
            "Epoch 35/300\n",
            "13832/13832 [==============================] - 0s 30us/step - loss: 67497961534.7785 - mae: 172057.5625 - val_loss: 66878304141.1367 - val_mae: 178739.0625\n",
            "Epoch 36/300\n",
            "13832/13832 [==============================] - 0s 30us/step - loss: 67409480742.4962 - mae: 172104.7500 - val_loss: 67124348594.6597 - val_mae: 179155.1094\n",
            "Epoch 37/300\n",
            "13832/13832 [==============================] - 0s 30us/step - loss: 67574886816.9439 - mae: 172289.2812 - val_loss: 66844736299.7398 - val_mae: 175374.9844\n",
            "Epoch 38/300\n",
            "13832/13832 [==============================] - 0s 30us/step - loss: 67404382675.8774 - mae: 171971.7969 - val_loss: 66884298520.4973 - val_mae: 174787.7031\n",
            "Epoch 39/300\n",
            "13832/13832 [==============================] - 0s 30us/step - loss: 67623714249.8091 - mae: 171507.1562 - val_loss: 66924880655.9121 - val_mae: 177904.7344\n",
            "Epoch 40/300\n",
            "13832/13832 [==============================] - 0s 29us/step - loss: 67532319822.7692 - mae: 172341.9531 - val_loss: 67005575891.5201 - val_mae: 174329.7656\n",
            "Epoch 41/300\n",
            "13832/13832 [==============================] - 0s 30us/step - loss: 67359873143.6345 - mae: 172001.5938 - val_loss: 66820324343.4149 - val_mae: 175347.2031\n",
            "Epoch 42/300\n",
            "13832/13832 [==============================] - 0s 29us/step - loss: 67581389774.8433 - mae: 171785.0625 - val_loss: 66886515201.3322 - val_mae: 176560.7656\n",
            "Epoch 43/300\n",
            "13832/13832 [==============================] - 0s 29us/step - loss: 67580861881.2261 - mae: 171730.7812 - val_loss: 66772054275.3304 - val_mae: 177398.5469\n",
            "Epoch 44/300\n",
            "13832/13832 [==============================] - 0s 31us/step - loss: 67565127205.0156 - mae: 171809.8906 - val_loss: 67247139086.5799 - val_mae: 180412.2656\n",
            "Epoch 45/300\n",
            "13832/13832 [==============================] - 0s 29us/step - loss: 67347278540.6223 - mae: 172424.9688 - val_loss: 66754801695.9722 - val_mae: 176960.6875\n",
            "Epoch 46/300\n",
            "13832/13832 [==============================] - 0s 30us/step - loss: 67561045355.0492 - mae: 171748.0469 - val_loss: 67036609712.1434 - val_mae: 179027.7656\n",
            "Epoch 47/300\n",
            "13832/13832 [==============================] - 0s 29us/step - loss: 67591857674.9566 - mae: 172248.4688 - val_loss: 66753780436.1122 - val_mae: 176919.0000\n",
            "Epoch 48/300\n",
            "13832/13832 [==============================] - 0s 32us/step - loss: 67520881701.3117 - mae: 172030.8281 - val_loss: 66851324623.9676 - val_mae: 176418.5000\n",
            "Epoch 49/300\n",
            "13832/13832 [==============================] - 0s 30us/step - loss: 67607237482.1608 - mae: 171486.4062 - val_loss: 67132875569.0685 - val_mae: 179465.6875\n",
            "Epoch 50/300\n",
            "13832/13832 [==============================] - 0s 29us/step - loss: 67593516769.9433 - mae: 171903.1094 - val_loss: 67080144302.1451 - val_mae: 179222.4219\n",
            "Epoch 51/300\n",
            "13832/13832 [==============================] - 0s 30us/step - loss: 67516327938.3690 - mae: 172095.7812 - val_loss: 66843505169.3183 - val_mae: 177695.6875\n",
            "Epoch 52/300\n",
            "13832/13832 [==============================] - 0s 29us/step - loss: 67347559622.4037 - mae: 172426.0000 - val_loss: 66883566962.3452 - val_mae: 175043.2500\n",
            "Epoch 53/300\n",
            "13832/13832 [==============================] - 0s 29us/step - loss: 67542033157.4783 - mae: 171688.0156 - val_loss: 66841882475.9803 - val_mae: 176865.9844\n",
            "Epoch 54/300\n",
            "13832/13832 [==============================] - 0s 30us/step - loss: 67574553118.5009 - mae: 171709.8281 - val_loss: 66811750713.2096 - val_mae: 177523.6406\n",
            "Epoch 55/300\n",
            "13832/13832 [==============================] - 0s 33us/step - loss: 67574553264.1943 - mae: 172134.1250 - val_loss: 66867034701.1182 - val_mae: 175382.7344\n",
            "Epoch 56/300\n",
            "13832/13832 [==============================] - 0s 31us/step - loss: 67507202899.6553 - mae: 171419.3750 - val_loss: 67453244582.0781 - val_mae: 181259.2500\n",
            "Epoch 57/300\n",
            "13832/13832 [==============================] - 0s 32us/step - loss: 67699165931.4193 - mae: 172489.3281 - val_loss: 66784838626.6921 - val_mae: 176942.3281\n",
            "Epoch 58/300\n",
            "13832/13832 [==============================] - 0s 32us/step - loss: 67550334521.1521 - mae: 171392.2188 - val_loss: 67578013336.6083 - val_mae: 182317.4844\n",
            "Epoch 59/300\n",
            "13832/13832 [==============================] - 0s 29us/step - loss: 67585751377.5824 - mae: 172525.2656 - val_loss: 67062704791.7202 - val_mae: 178889.8438\n",
            "Epoch 60/300\n",
            "13832/13832 [==============================] - 0s 29us/step - loss: 67600502317.3071 - mae: 172093.0000 - val_loss: 66870270444.0173 - val_mae: 177410.3906\n",
            "Epoch 61/300\n",
            "13832/13832 [==============================] - 0s 30us/step - loss: 67407885316.1457 - mae: 171784.6875 - val_loss: 67209389573.7728 - val_mae: 178793.3125\n",
            "Epoch 62/300\n",
            "13832/13832 [==============================] - 0s 30us/step - loss: 67604263947.8450 - mae: 172141.2031 - val_loss: 66902991584.5458 - val_mae: 176769.2656\n",
            "Epoch 63/300\n",
            "13832/13832 [==============================] - 0s 30us/step - loss: 67401322768.4349 - mae: 171939.3906 - val_loss: 66819195505.2350 - val_mae: 177103.0312\n",
            "Epoch 64/300\n",
            "13832/13832 [==============================] - 0s 30us/step - loss: 67408971303.3846 - mae: 171947.4062 - val_loss: 66990096701.3541 - val_mae: 178725.3438\n",
            "Epoch 65/300\n",
            "13832/13832 [==============================] - 0s 30us/step - loss: 67539765647.1764 - mae: 172077.7031 - val_loss: 66826518276.9587 - val_mae: 176335.2969\n",
            "Epoch 66/300\n",
            "13832/13832 [==============================] - 0s 30us/step - loss: 67560288995.1278 - mae: 171997.0156 - val_loss: 66791912659.0760 - val_mae: 176839.5469\n",
            "Epoch 67/300\n",
            "13832/13832 [==============================] - 0s 34us/step - loss: 67609870454.4500 - mae: 171583.4844 - val_loss: 67380043882.5742 - val_mae: 180529.3438\n",
            "Epoch 68/300\n",
            "13832/13832 [==============================] - 0s 31us/step - loss: 67546458655.6854 - mae: 172283.2656 - val_loss: 66778468755.7976 - val_mae: 176797.3438\n",
            "Epoch 69/300\n",
            "13832/13832 [==============================] - 0s 33us/step - loss: 67623451120.3054 - mae: 171681.8125 - val_loss: 67109914446.9685 - val_mae: 179844.4531\n",
            "Epoch 70/300\n",
            "13832/13832 [==============================] - 0s 30us/step - loss: 67504904934.6813 - mae: 172101.7188 - val_loss: 66790952184.3770 - val_mae: 177474.1875\n",
            "Epoch 71/300\n",
            "13832/13832 [==============================] - 0s 29us/step - loss: 67592107225.3557 - mae: 171910.1250 - val_loss: 66915291852.4151 - val_mae: 177552.9688\n",
            "Epoch 72/300\n",
            "13832/13832 [==============================] - 0s 30us/step - loss: 67518574063.7131 - mae: 171481.5625 - val_loss: 67101924535.2483 - val_mae: 179848.1719\n",
            "Epoch 73/300\n",
            "13832/13832 [==============================] - 0s 30us/step - loss: 67514056749.0110 - mae: 172537.6406 - val_loss: 66921158915.9225 - val_mae: 174794.6250\n",
            "Epoch 74/300\n",
            "13832/13832 [==============================] - 0s 30us/step - loss: 67547284987.5581 - mae: 171525.2969 - val_loss: 66895628883.0390 - val_mae: 178259.9844\n",
            "Epoch 75/300\n",
            "13832/13832 [==============================] - 0s 31us/step - loss: 67541183498.0682 - mae: 172046.1406 - val_loss: 66802412771.0622 - val_mae: 176983.9531\n",
            "Epoch 76/300\n",
            "13832/13832 [==============================] - 0s 31us/step - loss: 67544163922.0266 - mae: 172214.5625 - val_loss: 66917575158.6748 - val_mae: 175685.1250\n",
            "Epoch 77/300\n",
            "13832/13832 [==============================] - 0s 31us/step - loss: 67579122269.2794 - mae: 171937.4688 - val_loss: 66821179987.0390 - val_mae: 175485.4219\n",
            "Epoch 78/300\n",
            "13832/13832 [==============================] - 0s 30us/step - loss: 67538432561.4529 - mae: 171700.9844 - val_loss: 66863360460.0451 - val_mae: 177542.5312\n",
            "Epoch 79/300\n",
            "13832/13832 [==============================] - 0s 29us/step - loss: 67537999819.8820 - mae: 172253.1562 - val_loss: 66852165669.3010 - val_mae: 176290.0312\n",
            "Epoch 80/300\n",
            "13832/13832 [==============================] - 0s 29us/step - loss: 67561623037.9271 - mae: 171797.6562 - val_loss: 66883471064.5528 - val_mae: 177663.2031\n",
            "Epoch 81/300\n",
            "13832/13832 [==============================] - 0s 29us/step - loss: 67350829914.7623 - mae: 172390.5469 - val_loss: 66778225364.1122 - val_mae: 175855.9375\n",
            "Epoch 82/300\n",
            "13832/13832 [==============================] - 0s 31us/step - loss: 67538178005.3580 - mae: 171859.7031 - val_loss: 66861287744.3145 - val_mae: 176627.3438\n",
            "Epoch 83/300\n",
            "13832/13832 [==============================] - 0s 32us/step - loss: 67550243582.3713 - mae: 171932.3594 - val_loss: 66768083184.9760 - val_mae: 176113.7344\n",
            "Epoch 84/300\n",
            "13832/13832 [==============================] - 0s 33us/step - loss: 67546028858.7808 - mae: 171980.6094 - val_loss: 66894888443.7074 - val_mae: 176237.5312\n",
            "Epoch 85/300\n",
            "13832/13832 [==============================] - 0s 30us/step - loss: 67673521221.2932 - mae: 171844.2344 - val_loss: 66830787320.2290 - val_mae: 177585.6094\n",
            "Epoch 86/300\n",
            "13832/13832 [==============================] - 0s 32us/step - loss: 67635957774.2140 - mae: 172197.9219 - val_loss: 66773446427.4576 - val_mae: 176901.5312\n",
            "Epoch 87/300\n",
            "13832/13832 [==============================] - 0s 30us/step - loss: 67590359465.2354 - mae: 171871.4844 - val_loss: 66861645321.9173 - val_mae: 177867.4688\n",
            "Epoch 88/300\n",
            "13832/13832 [==============================] - 0s 30us/step - loss: 67530239237.1822 - mae: 171954.4844 - val_loss: 66904478895.5513 - val_mae: 178784.3438\n",
            "Epoch 89/300\n",
            "13832/13832 [==============================] - 0s 32us/step - loss: 67541641200.6015 - mae: 171603.3750 - val_loss: 67323007071.9167 - val_mae: 180720.9375\n",
            "Epoch 90/300\n",
            "13832/13832 [==============================] - 0s 29us/step - loss: 67616877561.4853 - mae: 172393.6406 - val_loss: 66804636447.8982 - val_mae: 176543.8125\n",
            "Epoch 91/300\n",
            "13832/13832 [==============================] - 0s 30us/step - loss: 67547752034.6096 - mae: 171576.7656 - val_loss: 67024733756.2440 - val_mae: 179268.4844\n",
            "Epoch 92/300\n",
            "13832/13832 [==============================] - 0s 29us/step - loss: 67518167215.3060 - mae: 171790.5469 - val_loss: 67819505657.4871 - val_mae: 181687.1719\n",
            "Epoch 93/300\n",
            "13832/13832 [==============================] - 0s 29us/step - loss: 67495675568.7866 - mae: 172127.0312 - val_loss: 67044784072.9367 - val_mae: 179239.0938\n",
            "Epoch 94/300\n",
            "13832/13832 [==============================] - 0s 31us/step - loss: 67592003835.1139 - mae: 172181.9062 - val_loss: 66792987210.7499 - val_mae: 176359.0781\n",
            "Epoch 95/300\n",
            "13832/13832 [==============================] - 0s 30us/step - loss: 67608028306.2857 - mae: 171567.9375 - val_loss: 67332495979.9063 - val_mae: 180423.6094\n",
            "Epoch 96/300\n",
            "13832/13832 [==============================] - 0s 33us/step - loss: 67552233359.4725 - mae: 172367.5469 - val_loss: 66901864437.3426 - val_mae: 177553.7188\n",
            "Epoch 97/300\n",
            "13832/13832 [==============================] - 0s 29us/step - loss: 67486946149.4228 - mae: 172020.3281 - val_loss: 66751461032.0023 - val_mae: 176466.1719\n",
            "Epoch 98/300\n",
            "13832/13832 [==============================] - 0s 32us/step - loss: 67590059114.0127 - mae: 172172.0469 - val_loss: 66873871224.7100 - val_mae: 175927.6250\n",
            "Epoch 99/300\n",
            "13832/13832 [==============================] - 0s 30us/step - loss: 67157826188.6593 - mae: 171993.5625 - val_loss: 66834326264.2290 - val_mae: 177119.5312\n",
            "Epoch 100/300\n",
            "13832/13832 [==============================] - 0s 30us/step - loss: 67601427051.4934 - mae: 171641.4688 - val_loss: 67226031279.5513 - val_mae: 180265.0781\n",
            "Epoch 101/300\n",
            "13832/13832 [==============================] - 0s 30us/step - loss: 67551700505.1706 - mae: 171859.0312 - val_loss: 67395388400.9020 - val_mae: 180901.2812\n",
            "Epoch 102/300\n",
            "13832/13832 [==============================] - 0s 31us/step - loss: 67630559575.5049 - mae: 172039.9062 - val_loss: 67029952877.3125 - val_mae: 179337.6875\n",
            "Epoch 103/300\n",
            "13832/13832 [==============================] - 0s 32us/step - loss: 67583469777.6564 - mae: 172113.3125 - val_loss: 66866338222.4412 - val_mae: 177993.2031\n",
            "Epoch 104/300\n",
            "13832/13832 [==============================] - 0s 29us/step - loss: 67281548889.1336 - mae: 172447.1875 - val_loss: 66772458295.5814 - val_mae: 175902.3750\n",
            "Epoch 105/300\n",
            "13832/13832 [==============================] - 0s 31us/step - loss: 67602045385.2169 - mae: 171805.6719 - val_loss: 66900242141.8815 - val_mae: 176816.5000\n",
            "Epoch 106/300\n",
            "13832/13832 [==============================] - 0s 31us/step - loss: 67560961411.9237 - mae: 171730.0469 - val_loss: 66929094147.9965 - val_mae: 177581.1250\n",
            "Epoch 107/300\n",
            "13832/13832 [==============================] - 0s 29us/step - loss: 67539261448.2915 - mae: 171523.0469 - val_loss: 67258140646.5406 - val_mae: 180571.2969\n",
            "Epoch 108/300\n",
            "13832/13832 [==============================] - 0s 32us/step - loss: 67474574457.4112 - mae: 172575.2031 - val_loss: 66998550030.6539 - val_mae: 174223.7500\n",
            "Epoch 109/300\n",
            "13832/13832 [==============================] - 0s 29us/step - loss: 67459431100.0393 - mae: 171823.6562 - val_loss: 66780368508.7806 - val_mae: 175715.2656\n",
            "Epoch 110/300\n",
            "13832/13832 [==============================] - 0s 32us/step - loss: 67587949465.5408 - mae: 171624.7344 - val_loss: 66891703198.0110 - val_mae: 178235.8125\n",
            "Epoch 111/300\n",
            "13832/13832 [==============================] - 0s 30us/step - loss: 67568446057.1244 - mae: 171842.3125 - val_loss: 66970978283.2772 - val_mae: 178857.3750\n",
            "Epoch 112/300\n",
            "13832/13832 [==============================] - 0s 32us/step - loss: 67591561102.2880 - mae: 171800.0625 - val_loss: 67290234070.0364 - val_mae: 180743.3750\n",
            "Epoch 113/300\n",
            "13832/13832 [==============================] - 0s 31us/step - loss: 67632440921.1336 - mae: 172460.2656 - val_loss: 66816421891.5525 - val_mae: 176645.5625\n",
            "Epoch 114/300\n",
            "13832/13832 [==============================] - 0s 30us/step - loss: 67545209667.0723 - mae: 171420.5938 - val_loss: 67452189052.7066 - val_mae: 181260.7344\n",
            "Epoch 115/300\n",
            "13832/13832 [==============================] - 0s 32us/step - loss: 67535347645.6680 - mae: 172254.0156 - val_loss: 67236558745.5704 - val_mae: 180052.6250\n",
            "Epoch 116/300\n",
            "13832/13832 [==============================] - 0s 31us/step - loss: 67554108152.4488 - mae: 171966.2812 - val_loss: 66802424157.9185 - val_mae: 177347.8594\n",
            "Epoch 117/300\n",
            "13832/13832 [==============================] - 0s 31us/step - loss: 67565477283.9052 - mae: 171875.4219 - val_loss: 66882460656.3099 - val_mae: 178485.6094\n",
            "Epoch 118/300\n",
            "13832/13832 [==============================] - 0s 29us/step - loss: 67351586343.3846 - mae: 172528.2500 - val_loss: 66829021665.9520 - val_mae: 175222.1562\n",
            "Epoch 119/300\n",
            "13832/13832 [==============================] - 0s 29us/step - loss: 67549472116.5252 - mae: 171919.1719 - val_loss: 66777762529.1379 - val_mae: 175787.9219\n",
            "Epoch 120/300\n",
            "13832/13832 [==============================] - 0s 31us/step - loss: 67506223207.0515 - mae: 171730.6562 - val_loss: 66917032705.7022 - val_mae: 178401.0781\n",
            "Epoch 121/300\n",
            "13832/13832 [==============================] - 0s 29us/step - loss: 67386346489.4853 - mae: 172336.0156 - val_loss: 67021013186.2018 - val_mae: 174109.9062\n",
            "Epoch 122/300\n",
            "13832/13832 [==============================] - 0s 30us/step - loss: 67580017382.6813 - mae: 171402.0938 - val_loss: 67023922234.3197 - val_mae: 178867.1562\n",
            "Epoch 123/300\n",
            "13832/13832 [==============================] - 0s 30us/step - loss: 67490864550.2742 - mae: 171842.0469 - val_loss: 67034943924.9540 - val_mae: 179335.7031\n",
            "Epoch 124/300\n",
            "13832/13832 [==============================] - 0s 29us/step - loss: 67463365242.1515 - mae: 172447.2969 - val_loss: 66913211723.8601 - val_mae: 174646.8438\n",
            "Epoch 125/300\n",
            "13832/13832 [==============================] - 0s 31us/step - loss: 67474414172.0948 - mae: 171983.5156 - val_loss: 66940608438.5823 - val_mae: 174498.3438\n",
            "Epoch 126/300\n",
            "13832/13832 [==============================] - 0s 29us/step - loss: 67605216462.6952 - mae: 171567.7500 - val_loss: 67103996057.3484 - val_mae: 178918.3906\n",
            "Epoch 127/300\n",
            "13832/13832 [==============================] - 0s 30us/step - loss: 67533714950.2186 - mae: 172262.1875 - val_loss: 66806453347.7653 - val_mae: 175901.7344\n",
            "Epoch 128/300\n",
            "13832/13832 [==============================] - 0s 30us/step - loss: 67585990072.0416 - mae: 172188.0156 - val_loss: 66933138504.5296 - val_mae: 174558.0156\n",
            "Epoch 129/300\n",
            "13832/13832 [==============================] - 0s 32us/step - loss: 67570401225.5130 - mae: 171143.7031 - val_loss: 67271579595.3050 - val_mae: 180877.8750\n",
            "Epoch 130/300\n",
            "13832/13832 [==============================] - 0s 32us/step - loss: 67540218187.6599 - mae: 171773.7188 - val_loss: 67611656443.0413 - val_mae: 182011.3750\n",
            "Epoch 131/300\n",
            "13832/13832 [==============================] - 0s 30us/step - loss: 67592686078.5194 - mae: 172420.7969 - val_loss: 66816398388.3990 - val_mae: 176736.6562\n",
            "Epoch 132/300\n",
            "13832/13832 [==============================] - 0s 31us/step - loss: 67565737051.7987 - mae: 171672.6562 - val_loss: 66943679455.7317 - val_mae: 178963.6562\n",
            "Epoch 133/300\n",
            "13832/13832 [==============================] - 0s 30us/step - loss: 67398940220.7056 - mae: 172352.4219 - val_loss: 66842336917.6479 - val_mae: 177018.3438\n",
            "Epoch 134/300\n",
            "13832/13832 [==============================] - 0s 32us/step - loss: 67533987046.3852 - mae: 172137.4062 - val_loss: 66844054883.5432 - val_mae: 175426.5469\n",
            "Epoch 135/300\n",
            "13832/13832 [==============================] - 0s 30us/step - loss: 67525951099.4841 - mae: 172008.4531 - val_loss: 66932403360.7494 - val_mae: 174719.5312\n",
            "Epoch 136/300\n",
            "13832/13832 [==============================] - 0s 32us/step - loss: 67618057057.8693 - mae: 171459.4062 - val_loss: 66853393891.4322 - val_mae: 178123.4375\n",
            "Epoch 137/300\n",
            "13832/13832 [==============================] - 0s 31us/step - loss: 67532133915.5396 - mae: 171510.3438 - val_loss: 67442853080.9968 - val_mae: 181649.8438\n",
            "Epoch 138/300\n",
            "13832/13832 [==============================] - 0s 29us/step - loss: 67621707271.4031 - mae: 172100.4531 - val_loss: 67029172806.6054 - val_mae: 178600.5938\n",
            "Epoch 139/300\n",
            "13832/13832 [==============================] - 0s 32us/step - loss: 67437100506.3921 - mae: 172559.2500 - val_loss: 66928332190.1590 - val_mae: 174558.9062\n",
            "Epoch 140/300\n",
            "13832/13832 [==============================] - 0s 33us/step - loss: 67574525051.7802 - mae: 171522.2031 - val_loss: 66847726945.7670 - val_mae: 178110.7656\n",
            "Epoch 141/300\n",
            "13832/13832 [==============================] - 0s 30us/step - loss: 67479834230.7461 - mae: 171706.4688 - val_loss: 67465621801.2235 - val_mae: 181324.8594\n",
            "Epoch 142/300\n",
            "13832/13832 [==============================] - 0s 30us/step - loss: 67554972804.0717 - mae: 172458.7500 - val_loss: 66902314634.9905 - val_mae: 176811.3906\n",
            "Epoch 143/300\n",
            "13832/13832 [==============================] - 0s 32us/step - loss: 67528735090.7484 - mae: 172144.0469 - val_loss: 66844467922.3359 - val_mae: 176501.6875\n",
            "Epoch 144/300\n",
            "13832/13832 [==============================] - 0s 30us/step - loss: 67532670841.5593 - mae: 171177.3125 - val_loss: 67902957800.6869 - val_mae: 183180.6875\n",
            "Epoch 145/300\n",
            "13832/13832 [==============================] - 0s 29us/step - loss: 67556610846.3528 - mae: 172717.3438 - val_loss: 66770101595.2541 - val_mae: 175895.0469\n",
            "Epoch 146/300\n",
            "13832/13832 [==============================] - 0s 31us/step - loss: 67550528672.4997 - mae: 172025.5469 - val_loss: 66893474072.0532 - val_mae: 175846.2812\n",
            "Epoch 147/300\n",
            "13832/13832 [==============================] - 0s 30us/step - loss: 67557935650.0544 - mae: 171458.3438 - val_loss: 67100787625.8526 - val_mae: 179472.5000\n",
            "Epoch 148/300\n",
            "13832/13832 [==============================] - 0s 31us/step - loss: 67554132849.2678 - mae: 172434.0469 - val_loss: 66932138133.2038 - val_mae: 174507.5156\n",
            "Epoch 149/300\n",
            "13832/13832 [==============================] - 0s 29us/step - loss: 67629077685.8207 - mae: 171263.8750 - val_loss: 67432992475.5132 - val_mae: 180720.5156\n",
            "Epoch 150/300\n",
            "13832/13832 [==============================] - 0s 30us/step - loss: 67325124817.6564 - mae: 172482.9219 - val_loss: 66764790886.7256 - val_mae: 176241.3906\n",
            "Epoch 151/300\n",
            "13832/13832 [==============================] - 0s 30us/step - loss: 67584383830.0243 - mae: 171620.2188 - val_loss: 67032762347.2772 - val_mae: 179496.6719\n",
            "Epoch 152/300\n",
            "13832/13832 [==============================] - 0s 31us/step - loss: 67592759849.1614 - mae: 172204.0156 - val_loss: 66825369758.0850 - val_mae: 177599.8125\n",
            "Epoch 153/300\n",
            "13832/13832 [==============================] - 0s 33us/step - loss: 67391742006.4870 - mae: 172075.1094 - val_loss: 66782761733.2547 - val_mae: 175832.6250\n",
            "Epoch 154/300\n",
            "13832/13832 [==============================] - 0s 30us/step - loss: 67475953437.7606 - mae: 172143.9688 - val_loss: 66946856753.3646 - val_mae: 174447.3906\n",
            "Epoch 155/300\n",
            "13832/13832 [==============================] - 0s 30us/step - loss: 67494352842.6975 - mae: 171589.4219 - val_loss: 66798081924.2556 - val_mae: 176460.1719\n",
            "Epoch 156/300\n",
            "13832/13832 [==============================] - 0s 29us/step - loss: 67464043961.2261 - mae: 172303.0312 - val_loss: 66927852336.4764 - val_mae: 174533.5625\n",
            "Epoch 157/300\n",
            "13832/13832 [==============================] - 0s 29us/step - loss: 67552113725.0017 - mae: 171183.0625 - val_loss: 67221108600.4140 - val_mae: 180372.7188\n",
            "Epoch 158/300\n",
            "13832/13832 [==============================] - 0s 32us/step - loss: 67454612893.9827 - mae: 172535.0938 - val_loss: 66761937863.4565 - val_mae: 176590.3438\n",
            "Epoch 159/300\n",
            "13832/13832 [==============================] - 0s 32us/step - loss: 67479069889.6657 - mae: 172200.5469 - val_loss: 66896017016.6360 - val_mae: 174776.5938\n",
            "Epoch 160/300\n",
            "13832/13832 [==============================] - 0s 32us/step - loss: 67560494785.3696 - mae: 171698.8438 - val_loss: 66763257639.8913 - val_mae: 176094.4531\n",
            "Epoch 161/300\n",
            "13832/13832 [==============================] - 0s 29us/step - loss: 67618853783.1718 - mae: 171712.5156 - val_loss: 67407108119.0911 - val_mae: 181153.9219\n",
            "Epoch 162/300\n",
            "13832/13832 [==============================] - 0s 30us/step - loss: 67215817024.9994 - mae: 172404.5625 - val_loss: 66791801386.1856 - val_mae: 176529.8125\n",
            "Epoch 163/300\n",
            "13832/13832 [==============================] - 0s 30us/step - loss: 67564148708.7565 - mae: 171812.8125 - val_loss: 66835765185.8317 - val_mae: 176833.0000\n",
            "Epoch 164/300\n",
            "13832/13832 [==============================] - 0s 31us/step - loss: 67561696533.7652 - mae: 171717.7188 - val_loss: 66897429342.0665 - val_mae: 177797.7188\n",
            "Epoch 165/300\n",
            "13832/13832 [==============================] - 0s 30us/step - loss: 67512832966.5518 - mae: 171908.9219 - val_loss: 67001686782.7418 - val_mae: 178754.9219\n",
            "Epoch 166/300\n",
            "13832/13832 [==============================] - 0s 29us/step - loss: 67570165014.9497 - mae: 172172.5156 - val_loss: 66864333306.8193 - val_mae: 178418.7031\n",
            "Epoch 167/300\n",
            "13832/13832 [==============================] - 0s 30us/step - loss: 67674346976.3146 - mae: 171982.2500 - val_loss: 67143931903.4079 - val_mae: 179562.0000\n",
            "Epoch 168/300\n",
            "13832/13832 [==============================] - 0s 32us/step - loss: 67507137671.6252 - mae: 172243.1875 - val_loss: 66750489132.5539 - val_mae: 176512.0625\n",
            "Epoch 169/300\n",
            "13832/13832 [==============================] - 0s 32us/step - loss: 67650934336.2591 - mae: 171867.4219 - val_loss: 66852026166.1012 - val_mae: 178090.5938\n",
            "Epoch 170/300\n",
            "13832/13832 [==============================] - 0s 29us/step - loss: 67587366274.7392 - mae: 172135.1562 - val_loss: 66825415224.9876 - val_mae: 175424.4844\n",
            "Epoch 171/300\n",
            "13832/13832 [==============================] - 0s 29us/step - loss: 67076322905.1336 - mae: 171450.6719 - val_loss: 66884593456.1804 - val_mae: 178437.7969\n",
            "Epoch 172/300\n",
            "13832/13832 [==============================] - 0s 31us/step - loss: 67531346899.5813 - mae: 172215.9688 - val_loss: 66804775212.1839 - val_mae: 176128.1875\n",
            "Epoch 173/300\n",
            "13832/13832 [==============================] - 0s 29us/step - loss: 67528196467.9329 - mae: 172163.0469 - val_loss: 66999688768.3885 - val_mae: 174233.3281\n",
            "Epoch 174/300\n",
            "13832/13832 [==============================] - 0s 30us/step - loss: 67549133547.4193 - mae: 171567.4844 - val_loss: 66792512496.3099 - val_mae: 176964.3438\n",
            "Epoch 175/300\n",
            "13832/13832 [==============================] - 0s 30us/step - loss: 67572468651.3083 - mae: 171830.7500 - val_loss: 66840117873.2350 - val_mae: 177661.0156\n",
            "Epoch 176/300\n",
            "13832/13832 [==============================] - 0s 30us/step - loss: 67556040272.8421 - mae: 172291.9844 - val_loss: 66844908367.2645 - val_mae: 175793.2969\n",
            "Epoch 177/300\n",
            "13832/13832 [==============================] - 0s 30us/step - loss: 67516337226.0312 - mae: 170998.7344 - val_loss: 68316473785.0986 - val_mae: 184654.2344\n",
            "Epoch 178/300\n",
            "13832/13832 [==============================] - 0s 30us/step - loss: 67588940522.2348 - mae: 172931.9844 - val_loss: 66945190146.7384 - val_mae: 174995.2812\n",
            "Epoch 179/300\n",
            "13832/13832 [==============================] - 0s 32us/step - loss: 67610460546.1469 - mae: 171430.6406 - val_loss: 66996494660.4591 - val_mae: 178461.7812\n",
            "Epoch 180/300\n",
            "13832/13832 [==============================] - 0s 30us/step - loss: 67533029084.6131 - mae: 171906.8750 - val_loss: 66945710759.1142 - val_mae: 179050.7031\n",
            "Epoch 181/300\n",
            "13832/13832 [==============================] - 0s 31us/step - loss: 67495602434.2209 - mae: 172543.6250 - val_loss: 67024702930.2619 - val_mae: 174207.8594\n",
            "Epoch 182/300\n",
            "13832/13832 [==============================] - 0s 30us/step - loss: 67538429484.7149 - mae: 171700.1875 - val_loss: 66880959419.6149 - val_mae: 176096.5938\n",
            "Epoch 183/300\n",
            "13832/13832 [==============================] - 0s 29us/step - loss: 67475148733.6680 - mae: 171487.1094 - val_loss: 67053869443.8115 - val_mae: 179487.8750\n",
            "Epoch 184/300\n",
            "13832/13832 [==============================] - 0s 30us/step - loss: 67595436607.6669 - mae: 172205.3281 - val_loss: 66802466678.6378 - val_mae: 177207.5469\n",
            "Epoch 185/300\n",
            "13832/13832 [==============================] - 0s 31us/step - loss: 67431690877.2608 - mae: 171212.7031 - val_loss: 68202908119.8867 - val_mae: 184211.4688\n",
            "Epoch 186/300\n",
            "13832/13832 [==============================] - 0s 30us/step - loss: 67669717254.9589 - mae: 172449.7969 - val_loss: 67223423769.9774 - val_mae: 180150.2812\n",
            "Epoch 187/300\n",
            "13832/13832 [==============================] - 0s 30us/step - loss: 67676449201.5269 - mae: 172088.6562 - val_loss: 66970951706.0515 - val_mae: 179274.9219\n",
            "Epoch 188/300\n",
            "13832/13832 [==============================] - 0s 31us/step - loss: 67254396361.8091 - mae: 172542.7031 - val_loss: 66819990122.1301 - val_mae: 175348.9219\n",
            "Epoch 189/300\n",
            "13832/13832 [==============================] - 0s 31us/step - loss: 67502808109.6032 - mae: 171378.8594 - val_loss: 67759876489.7323 - val_mae: 182309.4688\n",
            "Epoch 190/300\n",
            "13832/13832 [==============================] - 0s 29us/step - loss: 67639411659.2898 - mae: 172537.0469 - val_loss: 66783969441.0454 - val_mae: 176722.2031\n",
            "Epoch 191/300\n",
            "13832/13832 [==============================] - 0s 31us/step - loss: 67559875897.8924 - mae: 171793.8750 - val_loss: 66966594632.5296 - val_mae: 178989.9531\n",
            "Epoch 192/300\n",
            "13832/13832 [==============================] - 0s 33us/step - loss: 67398865450.3459 - mae: 172045.9688 - val_loss: 66883813835.4530 - val_mae: 177968.3438\n",
            "Epoch 193/300\n",
            "13832/13832 [==============================] - 0s 31us/step - loss: 67410346381.9919 - mae: 171324.0938 - val_loss: 67622839974.8182 - val_mae: 182232.2031\n",
            "Epoch 194/300\n",
            "13832/13832 [==============================] - 0s 30us/step - loss: 67382625250.9798 - mae: 172120.7188 - val_loss: 67058493355.3328 - val_mae: 179345.9844\n",
            "Epoch 195/300\n",
            "13832/13832 [==============================] - 0s 31us/step - loss: 67362474328.6894 - mae: 172305.3594 - val_loss: 66757538060.8037 - val_mae: 176878.5938\n",
            "Epoch 196/300\n",
            "13832/13832 [==============================] - 0s 31us/step - loss: 67525806635.5304 - mae: 171464.3438 - val_loss: 67253262406.4574 - val_mae: 180415.0938\n",
            "Epoch 197/300\n",
            "13832/13832 [==============================] - 0s 30us/step - loss: 67659000147.9514 - mae: 172287.1719 - val_loss: 67037070131.4368 - val_mae: 179479.6875\n",
            "Epoch 198/300\n",
            "13832/13832 [==============================] - 0s 31us/step - loss: 67480605552.0833 - mae: 171833.0938 - val_loss: 67064507102.7696 - val_mae: 179838.1719\n",
            "Epoch 199/300\n",
            "13832/13832 [==============================] - 0s 33us/step - loss: 67605772952.5043 - mae: 172133.4844 - val_loss: 66862949135.9121 - val_mae: 177901.2188\n",
            "Epoch 200/300\n",
            "13832/13832 [==============================] - 0s 30us/step - loss: 67555012814.1030 - mae: 172100.2344 - val_loss: 66848322022.6886 - val_mae: 177240.9219\n",
            "Epoch 201/300\n",
            "13832/13832 [==============================] - 0s 30us/step - loss: 67586590454.0798 - mae: 171945.8125 - val_loss: 66851805941.2686 - val_mae: 177372.5000\n",
            "Epoch 202/300\n",
            "13832/13832 [==============================] - 0s 29us/step - loss: 67600915783.5142 - mae: 171986.0156 - val_loss: 66846684991.5744 - val_mae: 177250.4844\n",
            "Epoch 203/300\n",
            "13832/13832 [==============================] - 0s 30us/step - loss: 67579620253.0943 - mae: 171883.9375 - val_loss: 66850328624.5504 - val_mae: 177733.3594\n",
            "Epoch 204/300\n",
            "13832/13832 [==============================] - 0s 30us/step - loss: 67609781815.9676 - mae: 171906.5938 - val_loss: 66877671408.0139 - val_mae: 178663.9219\n",
            "Epoch 205/300\n",
            "13832/13832 [==============================] - 0s 30us/step - loss: 67499479520.9069 - mae: 171822.6562 - val_loss: 67424564311.9237 - val_mae: 180594.0000\n",
            "Epoch 206/300\n",
            "13832/13832 [==============================] - 0s 31us/step - loss: 67572872206.8063 - mae: 172570.2031 - val_loss: 66759512297.2790 - val_mae: 176132.7500\n",
            "Epoch 207/300\n",
            "13832/13832 [==============================] - 0s 30us/step - loss: 67457681321.5315 - mae: 172163.1250 - val_loss: 67163166132.0659 - val_mae: 173636.9531\n",
            "Epoch 208/300\n",
            "13832/13832 [==============================] - 0s 31us/step - loss: 67532722356.0440 - mae: 171501.7031 - val_loss: 66838519440.9112 - val_mae: 178295.2188\n",
            "Epoch 209/300\n",
            "13832/13832 [==============================] - 0s 29us/step - loss: 67515208243.8219 - mae: 172027.3750 - val_loss: 66909573571.1639 - val_mae: 178106.1406\n",
            "Epoch 210/300\n",
            "13832/13832 [==============================] - 0s 30us/step - loss: 67593734248.2360 - mae: 172121.9062 - val_loss: 66778954980.2463 - val_mae: 176481.1406\n",
            "Epoch 211/300\n",
            "13832/13832 [==============================] - 0s 31us/step - loss: 67462454782.5194 - mae: 172184.7969 - val_loss: 66893971602.8355 - val_mae: 174913.0156\n",
            "Epoch 212/300\n",
            "13832/13832 [==============================] - 0s 30us/step - loss: 67416748337.6009 - mae: 171571.7031 - val_loss: 66991203751.0402 - val_mae: 178972.4375\n",
            "Epoch 213/300\n",
            "13832/13832 [==============================] - 0s 32us/step - loss: 67568829211.9838 - mae: 171888.2812 - val_loss: 67066051414.3695 - val_mae: 179091.6562\n",
            "Epoch 214/300\n",
            "13832/13832 [==============================] - 0s 32us/step - loss: 67603410970.0590 - mae: 172250.5156 - val_loss: 66816528664.6453 - val_mae: 177637.8125\n",
            "Epoch 215/300\n",
            "13832/13832 [==============================] - 0s 31us/step - loss: 67633589859.7941 - mae: 171737.8125 - val_loss: 67002111753.1032 - val_mae: 178847.3438\n",
            "Epoch 216/300\n",
            "13832/13832 [==============================] - 0s 31us/step - loss: 67451370558.1862 - mae: 171250.3594 - val_loss: 68709331951.7178 - val_mae: 186135.5469\n",
            "Epoch 217/300\n",
            "13832/13832 [==============================] - 0s 30us/step - loss: 67647132549.9965 - mae: 172962.2031 - val_loss: 66827214907.2079 - val_mae: 175386.7188\n",
            "Epoch 218/300\n",
            "13832/13832 [==============================] - 0s 30us/step - loss: 67478798828.7519 - mae: 171330.3906 - val_loss: 67515741153.5079 - val_mae: 181598.8281\n",
            "Epoch 219/300\n",
            "13832/13832 [==============================] - 0s 30us/step - loss: 67352473320.4581 - mae: 172395.7031 - val_loss: 66899278067.3443 - val_mae: 176817.3438\n",
            "Epoch 220/300\n",
            "13832/13832 [==============================] - 0s 31us/step - loss: 67590902372.3864 - mae: 171676.3125 - val_loss: 67189454016.1295 - val_mae: 178833.2812\n",
            "Epoch 221/300\n",
            "13832/13832 [==============================] - 0s 30us/step - loss: 67496339686.3852 - mae: 172220.0625 - val_loss: 66783046044.6788 - val_mae: 177126.3906\n",
            "Epoch 222/300\n",
            "13832/13832 [==============================] - 0s 30us/step - loss: 67454672445.8901 - mae: 171268.2344 - val_loss: 67239016587.1385 - val_mae: 180463.0312\n",
            "Epoch 223/300\n",
            "13832/13832 [==============================] - 0s 30us/step - loss: 67649986017.4991 - mae: 172647.9062 - val_loss: 66819906657.9890 - val_mae: 175472.6875\n",
            "Epoch 224/300\n",
            "13832/13832 [==============================] - 0s 32us/step - loss: 67597109580.8444 - mae: 171755.0312 - val_loss: 66903920721.7068 - val_mae: 178431.0938\n",
            "Epoch 225/300\n",
            "13832/13832 [==============================] - 0s 30us/step - loss: 67588421010.1377 - mae: 171938.9688 - val_loss: 66841269253.0327 - val_mae: 177959.4688\n",
            "Epoch 226/300\n",
            "13832/13832 [==============================] - 0s 31us/step - loss: 67313618518.7646 - mae: 172325.1562 - val_loss: 66879946434.6459 - val_mae: 174810.1250\n",
            "Epoch 227/300\n",
            "13832/13832 [==============================] - 0s 30us/step - loss: 67492153757.3904 - mae: 171122.0781 - val_loss: 67582635239.7988 - val_mae: 181854.7344\n",
            "Epoch 228/300\n",
            "13832/13832 [==============================] - 0s 30us/step - loss: 67590385770.6050 - mae: 172360.6250 - val_loss: 67073293796.0243 - val_mae: 178722.7656\n",
            "Epoch 229/300\n",
            "13832/13832 [==============================] - 0s 29us/step - loss: 67394405576.7727 - mae: 171780.4531 - val_loss: 67581341462.7210 - val_mae: 181451.9688\n",
            "Epoch 230/300\n",
            "13832/13832 [==============================] - 0s 32us/step - loss: 67586843197.2979 - mae: 172201.3594 - val_loss: 67222637930.0561 - val_mae: 179646.5938\n",
            "Epoch 231/300\n",
            "13832/13832 [==============================] - 0s 30us/step - loss: 67387756868.5529 - mae: 172294.9375 - val_loss: 66830052143.2923 - val_mae: 176869.9531\n",
            "Epoch 232/300\n",
            "13832/13832 [==============================] - 0s 30us/step - loss: 67515116343.2273 - mae: 172178.3438 - val_loss: 66880381138.7800 - val_mae: 174823.6094\n",
            "Epoch 233/300\n",
            "13832/13832 [==============================] - 0s 30us/step - loss: 67598863107.1093 - mae: 172124.0938 - val_loss: 67060780337.2165 - val_mae: 173953.7812\n",
            "Epoch 234/300\n",
            "13832/13832 [==============================] - 0s 29us/step - loss: 67630252113.7305 - mae: 171557.4844 - val_loss: 66838676886.4620 - val_mae: 176335.8438\n",
            "Epoch 235/300\n",
            "13832/13832 [==============================] - 0s 29us/step - loss: 67434734278.6998 - mae: 171291.7969 - val_loss: 67867932399.0518 - val_mae: 183013.9688\n",
            "Epoch 236/300\n",
            "13832/13832 [==============================] - 0s 30us/step - loss: 67642844705.4621 - mae: 172445.1719 - val_loss: 66898278752.2868 - val_mae: 177647.6562\n",
            "Epoch 237/300\n",
            "13832/13832 [==============================] - 0s 30us/step - loss: 67539994904.7264 - mae: 172408.9531 - val_loss: 66869420365.9324 - val_mae: 175014.6875\n",
            "Epoch 238/300\n",
            "13832/13832 [==============================] - 0s 31us/step - loss: 67516694392.9670 - mae: 171817.3594 - val_loss: 66918086274.1093 - val_mae: 175052.0781\n",
            "Epoch 239/300\n",
            "13832/13832 [==============================] - 0s 31us/step - loss: 67635129166.9173 - mae: 171716.2812 - val_loss: 66876025713.6051 - val_mae: 176730.0000\n",
            "Epoch 240/300\n",
            "13832/13832 [==============================] - 0s 31us/step - loss: 67633426985.4575 - mae: 171523.6875 - val_loss: 67505954771.0020 - val_mae: 181343.2812\n",
            "Epoch 241/300\n",
            "13832/13832 [==============================] - 0s 30us/step - loss: 67564047708.8352 - mae: 172611.5781 - val_loss: 66911991208.2243 - val_mae: 174615.1094\n",
            "Epoch 242/300\n",
            "13832/13832 [==============================] - 0s 31us/step - loss: 67650540443.9098 - mae: 171462.5469 - val_loss: 66927323506.0491 - val_mae: 178042.7969\n",
            "Epoch 243/300\n",
            "13832/13832 [==============================] - 0s 30us/step - loss: 67486711239.4401 - mae: 172296.4375 - val_loss: 66952117083.1061 - val_mae: 174415.5625\n",
            "Epoch 244/300\n",
            "13832/13832 [==============================] - 0s 29us/step - loss: 67611864936.3840 - mae: 171940.1094 - val_loss: 66945476646.4851 - val_mae: 176916.6094\n",
            "Epoch 245/300\n",
            "13832/13832 [==============================] - 0s 31us/step - loss: 67536367570.9890 - mae: 171920.0781 - val_loss: 66895913052.3643 - val_mae: 178111.8750\n",
            "Epoch 246/300\n",
            "13832/13832 [==============================] - 0s 30us/step - loss: 67436678672.8791 - mae: 171420.8281 - val_loss: 68659070997.9069 - val_mae: 185617.5000\n",
            "Epoch 247/300\n",
            "13832/13832 [==============================] - 0s 30us/step - loss: 67714334542.3250 - mae: 172813.7188 - val_loss: 66862152998.5591 - val_mae: 176806.5156\n",
            "Epoch 248/300\n",
            "13832/13832 [==============================] - 0s 30us/step - loss: 67537122940.6686 - mae: 171975.6250 - val_loss: 66973216662.6100 - val_mae: 176082.2031\n",
            "Epoch 249/300\n",
            "13832/13832 [==============================] - 0s 31us/step - loss: 67555637441.0735 - mae: 171250.9531 - val_loss: 67899158109.9925 - val_mae: 183252.0625\n",
            "Epoch 250/300\n",
            "13832/13832 [==============================] - 0s 30us/step - loss: 67523156267.6784 - mae: 171983.0156 - val_loss: 68220807159.1188 - val_mae: 184009.4844\n",
            "Epoch 251/300\n",
            "13832/13832 [==============================] - 0s 31us/step - loss: 67438927206.3112 - mae: 172817.9375 - val_loss: 66919121800.6962 - val_mae: 177729.8438\n",
            "Epoch 252/300\n",
            "13832/13832 [==============================] - 0s 32us/step - loss: 67335713542.6628 - mae: 171204.0469 - val_loss: 67988141243.3929 - val_mae: 183124.4375\n",
            "Epoch 253/300\n",
            "13832/13832 [==============================] - 0s 30us/step - loss: 67335245475.7571 - mae: 172733.2031 - val_loss: 67144040495.3663 - val_mae: 173705.5625\n",
            "Epoch 254/300\n",
            "13832/13832 [==============================] - 0s 30us/step - loss: 67526511478.0058 - mae: 171474.9531 - val_loss: 66844425411.0899 - val_mae: 176960.4688\n",
            "Epoch 255/300\n",
            "13832/13832 [==============================] - 0s 31us/step - loss: 67515162728.2360 - mae: 171692.7188 - val_loss: 67281329624.1827 - val_mae: 180192.2344\n",
            "Epoch 256/300\n",
            "13832/13832 [==============================] - 0s 30us/step - loss: 67595940226.1469 - mae: 171758.3594 - val_loss: 67423069232.8465 - val_mae: 181446.1562\n",
            "Epoch 257/300\n",
            "13832/13832 [==============================] - 0s 31us/step - loss: 67617233094.9960 - mae: 172537.7969 - val_loss: 66882711503.4496 - val_mae: 176865.6562\n",
            "Epoch 258/300\n",
            "13832/13832 [==============================] - 0s 31us/step - loss: 67597340797.5570 - mae: 171976.3594 - val_loss: 66883098902.8690 - val_mae: 176365.1094\n",
            "Epoch 259/300\n",
            "13832/13832 [==============================] - 0s 32us/step - loss: 67632015226.1515 - mae: 171768.7031 - val_loss: 66853617417.6953 - val_mae: 177988.7969\n",
            "Epoch 260/300\n",
            "13832/13832 [==============================] - 0s 30us/step - loss: 67464417220.7750 - mae: 171709.8906 - val_loss: 67057582482.6135 - val_mae: 179032.8281\n",
            "Epoch 261/300\n",
            "13832/13832 [==============================] - 0s 31us/step - loss: 67618294791.6992 - mae: 172283.1719 - val_loss: 66851639600.3284 - val_mae: 176720.2812\n",
            "Epoch 262/300\n",
            "13832/13832 [==============================] - 0s 30us/step - loss: 67559996212.8583 - mae: 172048.6875 - val_loss: 66828413653.2963 - val_mae: 175432.5156\n",
            "Epoch 263/300\n",
            "13832/13832 [==============================] - 0s 32us/step - loss: 67595334385.3418 - mae: 171695.8906 - val_loss: 66849002922.5927 - val_mae: 176144.7500\n",
            "Epoch 264/300\n",
            "13832/13832 [==============================] - 0s 30us/step - loss: 67548693845.7282 - mae: 171735.3438 - val_loss: 67001383917.9416 - val_mae: 178013.2656\n",
            "Epoch 265/300\n",
            "13832/13832 [==============================] - 0s 29us/step - loss: 67537156504.6524 - mae: 171988.2812 - val_loss: 66773068487.0864 - val_mae: 177250.8906\n",
            "Epoch 266/300\n",
            "13832/13832 [==============================] - 0s 31us/step - loss: 67591680026.0590 - mae: 172091.5938 - val_loss: 66804609449.1125 - val_mae: 176423.9688\n",
            "Epoch 267/300\n",
            "13832/13832 [==============================] - 0s 30us/step - loss: 67371596388.3864 - mae: 171675.8125 - val_loss: 67071935558.1613 - val_mae: 179663.5781\n",
            "Epoch 268/300\n",
            "13832/13832 [==============================] - 0s 29us/step - loss: 67459542395.6322 - mae: 171945.8281 - val_loss: 67574940832.1573 - val_mae: 181760.7031\n",
            "Epoch 269/300\n",
            "13832/13832 [==============================] - 0s 32us/step - loss: 67434815608.8190 - mae: 172692.0938 - val_loss: 66752909943.1558 - val_mae: 176396.0781\n",
            "Epoch 270/300\n",
            "13832/13832 [==============================] - 0s 30us/step - loss: 67558732522.2348 - mae: 172257.6094 - val_loss: 66909673367.2021 - val_mae: 174941.5312\n",
            "Epoch 271/300\n",
            "13832/13832 [==============================] - 0s 30us/step - loss: 67376745951.1301 - mae: 171057.3438 - val_loss: 67601190117.4305 - val_mae: 182093.7344\n",
            "Epoch 272/300\n",
            "13832/13832 [==============================] - 0s 30us/step - loss: 67572820883.6183 - mae: 172747.9531 - val_loss: 66854988614.9754 - val_mae: 175507.1875\n",
            "Epoch 273/300\n",
            "13832/13832 [==============================] - 0s 30us/step - loss: 67408741659.6877 - mae: 171232.1094 - val_loss: 67954660309.6664 - val_mae: 183245.7812\n",
            "Epoch 274/300\n",
            "13832/13832 [==============================] - 0s 30us/step - loss: 67388614249.7166 - mae: 172055.3125 - val_loss: 67703105223.9746 - val_mae: 182526.4219\n",
            "Epoch 275/300\n",
            "13832/13832 [==============================] - 0s 31us/step - loss: 67592343914.4569 - mae: 172558.0156 - val_loss: 66849074919.3547 - val_mae: 177576.9844\n",
            "Epoch 276/300\n",
            "13832/13832 [==============================] - 0s 29us/step - loss: 67584335346.0821 - mae: 171863.2969 - val_loss: 67096065931.3605 - val_mae: 179551.3594\n",
            "Epoch 277/300\n",
            "13832/13832 [==============================] - 0s 30us/step - loss: 67388789181.3719 - mae: 172393.0938 - val_loss: 66804481787.4854 - val_mae: 175816.0156\n",
            "Epoch 278/300\n",
            "13832/13832 [==============================] - 0s 30us/step - loss: 67506743538.8224 - mae: 171662.4062 - val_loss: 66866585749.2038 - val_mae: 178080.1250\n",
            "Epoch 279/300\n",
            "13832/13832 [==============================] - 0s 30us/step - loss: 67554731774.9636 - mae: 171595.9219 - val_loss: 67558068883.5756 - val_mae: 181992.4844\n",
            "Epoch 280/300\n",
            "13832/13832 [==============================] - 0s 30us/step - loss: 67655837655.7270 - mae: 172557.8281 - val_loss: 66847586878.9084 - val_mae: 177159.6094\n",
            "Epoch 281/300\n",
            "13832/13832 [==============================] - 0s 30us/step - loss: 67363582466.0729 - mae: 171236.1094 - val_loss: 67548263000.3677 - val_mae: 182073.6562\n",
            "Epoch 282/300\n",
            "13832/13832 [==============================] - 0s 29us/step - loss: 67486947947.4934 - mae: 172848.8125 - val_loss: 66931390920.4926 - val_mae: 174545.4844\n",
            "Epoch 283/300\n",
            "13832/13832 [==============================] - 0s 30us/step - loss: 67602003623.3106 - mae: 171673.5625 - val_loss: 66918691975.2900 - val_mae: 177261.8750\n",
            "Epoch 284/300\n",
            "13832/13832 [==============================] - 0s 30us/step - loss: 67633844998.6628 - mae: 171994.7500 - val_loss: 66765070201.0061 - val_mae: 176454.8906\n",
            "Epoch 285/300\n",
            "13832/13832 [==============================] - 0s 29us/step - loss: 67640213091.7941 - mae: 171528.3438 - val_loss: 67251055819.3790 - val_mae: 180085.4531\n",
            "Epoch 286/300\n",
            "13832/13832 [==============================] - 0s 30us/step - loss: 67467628892.2429 - mae: 171762.5625 - val_loss: 67714599677.5577 - val_mae: 182582.3906\n",
            "Epoch 287/300\n",
            "13832/13832 [==============================] - 0s 30us/step - loss: 67526645026.7947 - mae: 172511.8750 - val_loss: 66872890671.4403 - val_mae: 177830.8594\n",
            "Epoch 288/300\n",
            "13832/13832 [==============================] - 0s 30us/step - loss: 67507700910.7137 - mae: 172120.3125 - val_loss: 66806356985.7832 - val_mae: 177038.4844\n",
            "Epoch 289/300\n",
            "13832/13832 [==============================] - 0s 30us/step - loss: 67594313806.1770 - mae: 171929.7812 - val_loss: 66804533644.1006 - val_mae: 177014.7188\n",
            "Epoch 290/300\n",
            "13832/13832 [==============================] - 0s 29us/step - loss: 67559124037.2932 - mae: 172014.6094 - val_loss: 66769042110.7973 - val_mae: 176759.0625\n",
            "Epoch 291/300\n",
            "13832/13832 [==============================] - 0s 31us/step - loss: 67507861119.0376 - mae: 172070.3438 - val_loss: 66775914163.8439 - val_mae: 176784.9531\n",
            "Epoch 292/300\n",
            "13832/13832 [==============================] - 0s 30us/step - loss: 67595931925.1729 - mae: 172071.0938 - val_loss: 66829055390.7511 - val_mae: 176169.7188\n",
            "Epoch 293/300\n",
            "13832/13832 [==============================] - 0s 31us/step - loss: 67536958163.7293 - mae: 171712.9219 - val_loss: 66914164951.5166 - val_mae: 177816.0938\n",
            "Epoch 294/300\n",
            "13832/13832 [==============================] - 0s 31us/step - loss: 67133374074.2996 - mae: 172740.3438 - val_loss: 66842682682.0977 - val_mae: 175093.2812\n",
            "Epoch 295/300\n",
            "13832/13832 [==============================] - 0s 31us/step - loss: 67494828002.3875 - mae: 171329.0781 - val_loss: 67453390844.4475 - val_mae: 180884.0312\n",
            "Epoch 296/300\n",
            "13832/13832 [==============================] - 0s 30us/step - loss: 67586873320.3100 - mae: 172405.8438 - val_loss: 66825638514.4192 - val_mae: 176001.8438\n",
            "Epoch 297/300\n",
            "13832/13832 [==============================] - 0s 31us/step - loss: 67527797369.7073 - mae: 171394.2656 - val_loss: 67538836909.5530 - val_mae: 181766.0938\n",
            "Epoch 298/300\n",
            "13832/13832 [==============================] - 0s 29us/step - loss: 67616015434.0312 - mae: 172169.9219 - val_loss: 66904520326.8459 - val_mae: 178527.6875\n",
            "Epoch 299/300\n",
            "13832/13832 [==============================] - 0s 30us/step - loss: 67413629232.4164 - mae: 171959.3594 - val_loss: 66878256642.2203 - val_mae: 178146.0625\n",
            "Epoch 300/300\n",
            "13832/13832 [==============================] - 0s 31us/step - loss: 67612070695.8288 - mae: 172143.5625 - val_loss: 67162590641.1055 - val_mae: 179658.5156\n"
          ],
          "name": "stdout"
        }
      ]
    },
    {
      "cell_type": "code",
      "metadata": {
        "id": "YBUd7rUNBLRR",
        "colab_type": "code",
        "colab": {}
      },
      "source": [
        "def plot_history(history):\n",
        "  plt.figure()\n",
        "  plt.xlabel('Epoch')\n",
        "  plt.ylabel('Mean Abs Error')\n",
        "  plt.plot(history.epoch, np.array(history.history['mean_absolute_error']), label='Train loss')\n",
        "  plt.plot(history.epoch, np.array(history.history['val_mean_absolute_error']), label='Val loss')\n",
        "  plt.legend()\n",
        "  plt.show()"
      ],
      "execution_count": 102,
      "outputs": []
    },
    {
      "cell_type": "code",
      "metadata": {
        "id": "YrA6UXLeCwZ5",
        "colab_type": "code",
        "colab": {}
      },
      "source": [
        "train_pred_nn = model.predict(train_x_data)"
      ],
      "execution_count": 103,
      "outputs": []
    },
    {
      "cell_type": "code",
      "metadata": {
        "id": "PqIa3G5NEXng",
        "colab_type": "code",
        "colab": {
          "base_uri": "https://localhost:8080/",
          "height": 494
        },
        "outputId": "bbd32e2d-3c69-4507-d8f8-1d1ad53eb4ac"
      },
      "source": [
        "plt.figure(figsize=(8,8))\n",
        "plt.scatter(train_x_data, train_y_data, color='gray')\n",
        "plt.plot(train_x_data, train_pred_nn, color='blue')\n",
        "plt.show()"
      ],
      "execution_count": 104,
      "outputs": [
        {
          "output_type": "display_data",
          "data": {
            "image/png": "[encoded data removed]",
            "text/plain": [
              "<Figure size 576x576 with 1 Axes>"
            ]
          },
          "metadata": {
            "tags": [],
            "needs_background": "light"
          }
        }
      ]
    },
    {
      "cell_type": "code",
      "metadata": {
        "id": "WS6EGijpEccf",
        "colab_type": "code",
        "colab": {
          "base_uri": "https://localhost:8080/",
          "height": 141
        },
        "outputId": "d3ba3f5e-a6dc-4273-a2d5-a3c553ea7ec9"
      },
      "source": [
        "train_pred_nn"
      ],
      "execution_count": 105,
      "outputs": [
        {
          "output_type": "execute_result",
          "data": {
            "text/plain": [
              "array([[544662.6 ],\n",
              "       [769221.9 ],\n",
              "       [626320.5 ],\n",
              "       ...,\n",
              "       [317187.06],\n",
              "       [576742.5 ],\n",
              "       [664233.1 ]], dtype=float32)"
            ]
          },
          "metadata": {
            "tags": []
          },
          "execution_count": 105
        }
      ]
    },
    {
      "cell_type": "code",
      "metadata": {
        "id": "xXXz6bEYEkc-",
        "colab_type": "code",
        "colab": {
          "base_uri": "https://localhost:8080/",
          "height": 35
        },
        "outputId": "8d6ca003-455a-4a35-d69c-f8102594db74"
      },
      "source": [
        "[loss, mae] = model.evaluate(test_x_data, test_y_data)"
      ],
      "execution_count": 107,
      "outputs": [
        {
          "output_type": "stream",
          "text": [
            "4322/4322 [==============================] - 0s 16us/step\n"
          ],
          "name": "stdout"
        }
      ]
    },
    {
      "cell_type": "code",
      "metadata": {
        "id": "qxWCGOakGWrx",
        "colab_type": "code",
        "colab": {
          "base_uri": "https://localhost:8080/",
          "height": 35
        },
        "outputId": "f56ff887-5e08-478e-f554-3d066d2c3aca"
      },
      "source": [
        "math.sqrt(loss)"
      ],
      "execution_count": 109,
      "outputs": [
        {
          "output_type": "execute_result",
          "data": {
            "text/plain": [
              "270094.52234719304"
            ]
          },
          "metadata": {
            "tags": []
          },
          "execution_count": 109
        }
      ]
    },
    {
      "cell_type": "code",
      "metadata": {
        "id": "tALWAXUWGaH0",
        "colab_type": "code",
        "colab": {
          "base_uri": "https://localhost:8080/",
          "height": 35
        },
        "outputId": "403b081b-0899-4811-f876-fd387c62eff2"
      },
      "source": [
        "mae"
      ],
      "execution_count": 110,
      "outputs": [
        {
          "output_type": "execute_result",
          "data": {
            "text/plain": [
              "177480.546875"
            ]
          },
          "metadata": {
            "tags": []
          },
          "execution_count": 110
        }
      ]
    },
    {
      "cell_type": "code",
      "metadata": {
        "id": "Xlp57q7bGvHN",
        "colab_type": "code",
        "colab": {
          "base_uri": "https://localhost:8080/",
          "height": 35
        },
        "outputId": "869f7e65-1d77-4b5f-b570-e1476f8d2b34"
      },
      "source": [
        "r2_score(train_y_data, train_pred_nn)"
      ],
      "execution_count": 116,
      "outputs": [
        {
          "output_type": "execute_result",
          "data": {
            "text/plain": [
              "0.488372529975715"
            ]
          },
          "metadata": {
            "tags": []
          },
          "execution_count": 116
        }
      ]
    },
    {
      "cell_type": "code",
      "metadata": {
        "id": "LDFxZZ8dHJ8b",
        "colab_type": "code",
        "colab": {}
      },
      "source": [
        ""
      ],
      "execution_count": null,
      "outputs": []
    }
  ]
}