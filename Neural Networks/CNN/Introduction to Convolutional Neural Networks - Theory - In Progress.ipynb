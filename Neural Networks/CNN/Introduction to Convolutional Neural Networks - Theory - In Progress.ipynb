{
 "cells": [
  {
   "cell_type": "markdown",
   "metadata": {},
   "source": [
    "Convolutional Neural Networks, or CNNs, are neural networks specialised to work with visual data, i.e. images and videos (though not restricted to them). They are very similar to the vanilla neural networks \n",
    "\n",
    "**Challenges in Image Processing**\n",
    "1. Viewpoint variation: Different orientations of the image with respect to the camera.\n",
    "2. Scale variation: Different sizes of the object with respect to the image size.\n",
    "3. Illumination conditions: Illumination effects.\n",
    "4. Background clutter: Varying backgrounds.\n",
    "\n",
    "**Applications of CNNs**\n",
    "1. Object localization -Identifying the local region of the objects \n",
    "2. Semantic segmentation: Identifying the exact shapes of the objects (pixel by pixel) and classifying them.\n",
    "3. Optical Character Recognition (OCR): Recognise characters in an image.\n",
    "\n",
    "**The CNN Networks are will work something like below.**\n",
    "\n",
    "1. The first layer extracts raw features, like vertical and horizontal edges\n",
    "2. The second layer extracts more abstract features such as textures (using the features extracted by the first layer)\n",
    "3. The subsequent layers may identify certain parts of the image such as skin, hair, nose, mouth etc. based on the textures.\n",
    "4. Layers further up may identify faces, limbs etc. \n",
    "5. Finally, the last layer may classify the image as 'human', 'cat' etc.\n",
    "\n",
    "**Terminologies related to the CNN architecture**\n",
    "1. **Convolutions** : Mathematically, the convolution operation is the summation of the element-wise product of two matrices. We use this technique for convolving an image using filter.\n",
    "2. Pooling \n",
    "3. Feature Maps"
   ]
  },
  {
   "cell_type": "code",
   "execution_count": null,
   "metadata": {},
   "outputs": [],
   "source": []
  }
 ],
 "metadata": {
  "kernelspec": {
   "display_name": "Python 3",
   "language": "python",
   "name": "python3"
  },
  "language_info": {
   "codemirror_mode": {
    "name": "ipython",
    "version": 3
   },
   "file_extension": ".py",
   "mimetype": "text/x-python",
   "name": "python",
   "nbconvert_exporter": "python",
   "pygments_lexer": "ipython3",
   "version": "3.7.0"
  }
 },
 "nbformat": 4,
 "nbformat_minor": 2
}
